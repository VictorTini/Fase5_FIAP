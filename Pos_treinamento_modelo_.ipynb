{
  "nbformat": 4,
  "nbformat_minor": 0,
  "metadata": {
    "colab": {
      "provenance": [],
      "include_colab_link": true
    },
    "kernelspec": {
      "name": "python3",
      "display_name": "Python 3"
    },
    "language_info": {
      "name": "python"
    }
  },
  "cells": [
    {
      "cell_type": "markdown",
      "metadata": {
        "id": "view-in-github",
        "colab_type": "text"
      },
      "source": [
        "<a href=\"https://colab.research.google.com/github/VictorTini/Fase5_FIAP/blob/main/Pos_treinamento_modelo_.ipynb\" target=\"_parent\"><img src=\"https://colab.research.google.com/assets/colab-badge.svg\" alt=\"Open In Colab\"/></a>"
      ]
    },
    {
      "cell_type": "markdown",
      "source": [],
      "metadata": {
        "id": "mmx9cM1hGV4q"
      }
    },
    {
      "cell_type": "code",
      "source": [
        "!pip install pyspark\n",
        "!pip install google-cloud-bigquery\n",
        "!pip install findspark"
      ],
      "metadata": {
        "colab": {
          "base_uri": "https://localhost:8080/"
        },
        "id": "_j1_ga23a3ZQ",
        "outputId": "7949bceb-ccea-4a54-ceac-2330112ed153"
      },
      "execution_count": 1,
      "outputs": [
        {
          "output_type": "stream",
          "name": "stdout",
          "text": [
            "Requirement already satisfied: pyspark in /usr/local/lib/python3.11/dist-packages (3.5.1)\n",
            "Requirement already satisfied: py4j==0.10.9.7 in /usr/local/lib/python3.11/dist-packages (from pyspark) (0.10.9.7)\n",
            "Requirement already satisfied: google-cloud-bigquery in /usr/local/lib/python3.11/dist-packages (3.35.0)\n",
            "Requirement already satisfied: google-api-core<3.0.0,>=2.11.1 in /usr/local/lib/python3.11/dist-packages (from google-api-core[grpc]<3.0.0,>=2.11.1->google-cloud-bigquery) (2.25.1)\n",
            "Requirement already satisfied: google-auth<3.0.0,>=2.14.1 in /usr/local/lib/python3.11/dist-packages (from google-cloud-bigquery) (2.38.0)\n",
            "Requirement already satisfied: google-cloud-core<3.0.0,>=2.4.1 in /usr/local/lib/python3.11/dist-packages (from google-cloud-bigquery) (2.4.3)\n",
            "Requirement already satisfied: google-resumable-media<3.0.0,>=2.0.0 in /usr/local/lib/python3.11/dist-packages (from google-cloud-bigquery) (2.7.2)\n",
            "Requirement already satisfied: packaging>=24.2.0 in /usr/local/lib/python3.11/dist-packages (from google-cloud-bigquery) (25.0)\n",
            "Requirement already satisfied: python-dateutil<3.0.0,>=2.8.2 in /usr/local/lib/python3.11/dist-packages (from google-cloud-bigquery) (2.9.0.post0)\n",
            "Requirement already satisfied: requests<3.0.0,>=2.21.0 in /usr/local/lib/python3.11/dist-packages (from google-cloud-bigquery) (2.32.3)\n",
            "Requirement already satisfied: googleapis-common-protos<2.0.0,>=1.56.2 in /usr/local/lib/python3.11/dist-packages (from google-api-core<3.0.0,>=2.11.1->google-api-core[grpc]<3.0.0,>=2.11.1->google-cloud-bigquery) (1.70.0)\n",
            "Requirement already satisfied: protobuf!=3.20.0,!=3.20.1,!=4.21.0,!=4.21.1,!=4.21.2,!=4.21.3,!=4.21.4,!=4.21.5,<7.0.0,>=3.19.5 in /usr/local/lib/python3.11/dist-packages (from google-api-core<3.0.0,>=2.11.1->google-api-core[grpc]<3.0.0,>=2.11.1->google-cloud-bigquery) (5.29.5)\n",
            "Requirement already satisfied: proto-plus<2.0.0,>=1.22.3 in /usr/local/lib/python3.11/dist-packages (from google-api-core<3.0.0,>=2.11.1->google-api-core[grpc]<3.0.0,>=2.11.1->google-cloud-bigquery) (1.26.1)\n",
            "Requirement already satisfied: grpcio<2.0.0,>=1.33.2 in /usr/local/lib/python3.11/dist-packages (from google-api-core[grpc]<3.0.0,>=2.11.1->google-cloud-bigquery) (1.73.1)\n",
            "Requirement already satisfied: grpcio-status<2.0.0,>=1.33.2 in /usr/local/lib/python3.11/dist-packages (from google-api-core[grpc]<3.0.0,>=2.11.1->google-cloud-bigquery) (1.71.2)\n",
            "Requirement already satisfied: cachetools<6.0,>=2.0.0 in /usr/local/lib/python3.11/dist-packages (from google-auth<3.0.0,>=2.14.1->google-cloud-bigquery) (5.5.2)\n",
            "Requirement already satisfied: pyasn1-modules>=0.2.1 in /usr/local/lib/python3.11/dist-packages (from google-auth<3.0.0,>=2.14.1->google-cloud-bigquery) (0.4.2)\n",
            "Requirement already satisfied: rsa<5,>=3.1.4 in /usr/local/lib/python3.11/dist-packages (from google-auth<3.0.0,>=2.14.1->google-cloud-bigquery) (4.9.1)\n",
            "Requirement already satisfied: google-crc32c<2.0dev,>=1.0 in /usr/local/lib/python3.11/dist-packages (from google-resumable-media<3.0.0,>=2.0.0->google-cloud-bigquery) (1.7.1)\n",
            "Requirement already satisfied: six>=1.5 in /usr/local/lib/python3.11/dist-packages (from python-dateutil<3.0.0,>=2.8.2->google-cloud-bigquery) (1.17.0)\n",
            "Requirement already satisfied: charset-normalizer<4,>=2 in /usr/local/lib/python3.11/dist-packages (from requests<3.0.0,>=2.21.0->google-cloud-bigquery) (3.4.2)\n",
            "Requirement already satisfied: idna<4,>=2.5 in /usr/local/lib/python3.11/dist-packages (from requests<3.0.0,>=2.21.0->google-cloud-bigquery) (3.10)\n",
            "Requirement already satisfied: urllib3<3,>=1.21.1 in /usr/local/lib/python3.11/dist-packages (from requests<3.0.0,>=2.21.0->google-cloud-bigquery) (2.4.0)\n",
            "Requirement already satisfied: certifi>=2017.4.17 in /usr/local/lib/python3.11/dist-packages (from requests<3.0.0,>=2.21.0->google-cloud-bigquery) (2025.7.14)\n",
            "Requirement already satisfied: pyasn1<0.7.0,>=0.6.1 in /usr/local/lib/python3.11/dist-packages (from pyasn1-modules>=0.2.1->google-auth<3.0.0,>=2.14.1->google-cloud-bigquery) (0.6.1)\n",
            "Collecting findspark\n",
            "  Downloading findspark-2.0.1-py2.py3-none-any.whl.metadata (352 bytes)\n",
            "Downloading findspark-2.0.1-py2.py3-none-any.whl (4.4 kB)\n",
            "Installing collected packages: findspark\n",
            "Successfully installed findspark-2.0.1\n"
          ]
        }
      ]
    },
    {
      "cell_type": "markdown",
      "source": [
        "# 01 - Importando as bibliotecas necessárias\n",
        "\n",
        "Neste primeiro passo, estamos importando as bibliotecas necessárias para manipulação de dados (pandas), visualização (matplotlib e seaborn) e leitura de arquivos JSON (json)."
      ],
      "metadata": {
        "id": "rfaT2NvRavgX"
      }
    },
    {
      "cell_type": "code",
      "source": [
        "import pandas as pd\n",
        "import json\n",
        "import matplotlib.pyplot as plt\n",
        "import seaborn as sns\n"
      ],
      "metadata": {
        "id": "fCHoXIp0azLH"
      },
      "execution_count": 2,
      "outputs": []
    },
    {
      "cell_type": "markdown",
      "source": [
        "# 02 - Carregando os dados\n",
        "\n",
        "Aqui, carregamos o arquivo JSON com as vagas, extraímos as informações e criamos um DataFrame df_vagas."
      ],
      "metadata": {
        "id": "nmFEot1Oa9LX"
      }
    },
    {
      "cell_type": "code",
      "source": [
        "caminho_vagas = r'vagas.json'\n",
        "caminho_prospects = r'prospects.json'\n",
        "caminho_applicants = r'applicants.json'\n",
        "\n",
        "with open(caminho_vagas, encoding='utf-8') as f:\n",
        "    raw_vagas = json.load(f)\n",
        "\n",
        "lista_vagas = []\n",
        "for id_vaga, dados in raw_vagas.items():\n",
        "    dados['id_vaga'] = id_vaga\n",
        "    lista_vagas.append(dados)\n",
        "\n",
        "df_vagas = pd.json_normalize(lista_vagas)\n",
        "print(f'Vagas carregadas: {df_vagas.shape}')\n"
      ],
      "metadata": {
        "colab": {
          "base_uri": "https://localhost:8080/"
        },
        "id": "SmBGx72vbVcZ",
        "outputId": "93b931b0-bf4a-4627-e00d-df1e5ec3adbb"
      },
      "execution_count": 3,
      "outputs": [
        {
          "output_type": "stream",
          "name": "stdout",
          "text": [
            "Vagas carregadas: (14081, 45)\n"
          ]
        }
      ]
    },
    {
      "cell_type": "markdown",
      "source": [
        "# 03 - Carregando os prospects (candidatos potenciais)\n",
        "Aqui, carregamos os prospects e estruturamos os dados de forma que cada candidato tenha um ID de vaga correspondente, criando o DataFrame df_prospeccoes."
      ],
      "metadata": {
        "id": "oobZmYTZbEeX"
      }
    },
    {
      "cell_type": "code",
      "source": [
        "with open(caminho_prospects, encoding='utf-8') as f:\n",
        "    raw_prospects = json.load(f)\n",
        "\n",
        "lista_prospects = []\n",
        "for id_vaga, conteudo in raw_prospects.items():\n",
        "    if isinstance(conteudo, list):\n",
        "        for candidato in conteudo:\n",
        "            if isinstance(candidato, dict):\n",
        "                candidato['id_vaga'] = id_vaga\n",
        "                lista_prospects.append(candidato)\n",
        "    elif isinstance(conteudo, dict) and 'prospects' in conteudo:\n",
        "        for candidato in conteudo['prospects']:\n",
        "            if isinstance(candidato, dict):\n",
        "                candidato['id_vaga'] = id_vaga\n",
        "                lista_prospects.append(candidato)\n",
        "\n",
        "df_prospeccoes = pd.json_normalize(lista_prospects)\n",
        "print(f'Prospecções carregados: {df_prospeccoes.shape}')\n"
      ],
      "metadata": {
        "colab": {
          "base_uri": "https://localhost:8080/"
        },
        "id": "lntv60PJbJ6I",
        "outputId": "def1c125-9269-4fb0-ae6c-ab69057c6b79"
      },
      "execution_count": 4,
      "outputs": [
        {
          "output_type": "stream",
          "name": "stdout",
          "text": [
            "Prospecções carregados: (53759, 8)\n"
          ]
        }
      ]
    },
    {
      "cell_type": "markdown",
      "source": [
        "# 04 - Carregando os candidatos\n",
        "Neste passo, fazemos o mesmo processo para carregar os candidatos, que são estruturados no DataFrame df_candidatos."
      ],
      "metadata": {
        "id": "OoVeW6lWbaif"
      }
    },
    {
      "cell_type": "code",
      "source": [
        "lista_candidatos = []\n",
        "with open(caminho_applicants, encoding='utf-8') as f:\n",
        "    try:\n",
        "        raw_candidatos = json.load(f)\n",
        "    except json.JSONDecodeError as e:\n",
        "        print(\"Falha ao carregar JSON completo.Extrair manualmente!\")\n",
        "\n",
        "        f.seek(0)\n",
        "        for i, linha in enumerate(f):\n",
        "            try:\n",
        "                candidato = json.loads(linha)\n",
        "                lista_candidatos.append(candidato)\n",
        "            except:\n",
        "                print(f\"Linha inválida na {i}\")\n",
        "\n",
        "with open(caminho_applicants, encoding='utf-8') as f:\n",
        "    raw_candidatos = json.load(f)\n",
        "\n",
        "lista_candidatos = []\n",
        "for id_candidato, dados in raw_candidatos.items():\n",
        "    dados['id_candidato'] = id_candidato\n",
        "    lista_candidatos.append(dados)\n",
        "\n",
        "df_candidatos = pd.json_normalize(lista_candidatos)\n",
        "print(f'Candidatos carregados: {df_candidatos.shape}')\n"
      ],
      "metadata": {
        "colab": {
          "base_uri": "https://localhost:8080/"
        },
        "id": "wKKyDL8VbhVw",
        "outputId": "28535c2e-7498-4603-9920-6888cda47625"
      },
      "execution_count": 5,
      "outputs": [
        {
          "output_type": "stream",
          "name": "stdout",
          "text": [
            "Candidatos carregados: (42482, 58)\n"
          ]
        }
      ]
    },
    {
      "cell_type": "markdown",
      "source": [
        "# 05 - Visualizando os dados carregados\n",
        "Aqui, fazemos uma visualização rápida das primeiras linhas de cada DataFrame para garantir que os dados foram carregados corretamente."
      ],
      "metadata": {
        "id": "B2s9W0eHbnlH"
      }
    },
    {
      "cell_type": "code",
      "source": [
        "print(\"\\nVagas:\")\n",
        "print(df_vagas.head())\n",
        "\n",
        "print(\"\\nProspecções:\")\n",
        "print(df_prospeccoes.head())\n",
        "\n",
        "print(\"\\nCandidatos:\")\n",
        "print(df_candidatos.head())\n"
      ],
      "metadata": {
        "colab": {
          "base_uri": "https://localhost:8080/"
        },
        "id": "BKc-WUqobyCI",
        "outputId": "87732935-0a14-4198-f891-663743d859be"
      },
      "execution_count": 6,
      "outputs": [
        {
          "output_type": "stream",
          "name": "stdout",
          "text": [
            "\n",
            "Vagas:\n",
            "  id_vaga informacoes_basicas.data_requicisao  \\\n",
            "0    5185                          04-05-2021   \n",
            "1    5184                          04-05-2021   \n",
            "2    5183                          04-05-2021   \n",
            "3    5182                          04-05-2021   \n",
            "4    5181                          04-05-2021   \n",
            "\n",
            "  informacoes_basicas.limite_esperado_para_contratacao  \\\n",
            "0                                         00-00-0000     \n",
            "1                                         00-00-0000     \n",
            "2                                         00-00-0000     \n",
            "3                                         18-05-2021     \n",
            "4                                         00-00-0000     \n",
            "\n",
            "                     informacoes_basicas.titulo_vaga  \\\n",
            "0                                   Operation Lead -   \n",
            "1                             Consultor PP/QM Sênior   \n",
            "2                              ANALISTA PL/JR C/ SQL   \n",
            "3                     Technical Architect - 11894809   \n",
            "4  Consultor SAP AUTHORIZATION (BCA) -Pleno / Sênior   \n",
            "\n",
            "  informacoes_basicas.vaga_sap informacoes_basicas.cliente  \\\n",
            "0                          Não    Morris, Moran and Dodson   \n",
            "1                          Não    Morris, Moran and Dodson   \n",
            "2                          Não    Morris, Moran and Dodson   \n",
            "3                          Não                 Nelson-Page   \n",
            "4                          Não               Mann and Sons   \n",
            "\n",
            "  informacoes_basicas.solicitante_cliente informacoes_basicas.empresa_divisao  \\\n",
            "0                   Dra. Catarina Marques                  Decision São Paulo   \n",
            "1                   Dra. Catarina Marques                  Decision São Paulo   \n",
            "2                   Dra. Catarina Marques                  Decision São Paulo   \n",
            "3                       Dr. Raul Monteiro                  Decision São Paulo   \n",
            "4                             Cauê Fogaça                  Decision São Paulo   \n",
            "\n",
            "  informacoes_basicas.requisitante informacoes_basicas.analista_responsavel  \\\n",
            "0             Maria Laura Nogueira                     Srta. Bella Ferreira   \n",
            "1             Maria Laura Nogueira                           Yasmin da Rosa   \n",
            "2             Maria Laura Nogueira                          Ana Albuquerque   \n",
            "3                  Cecília Freitas                               Clara Rios   \n",
            "4             Maria Laura Nogueira                     Srta. Bella Ferreira   \n",
            "\n",
            "   ...                     perfil_vaga.demais_observacoes  \\\n",
            "0  ...            100% Remoto Período – entre 5 – 6 meses   \n",
            "1  ...                   • Início: Imediato • Fim: Jan/22   \n",
            "2  ...  Localização: Remoto Perfil: Analista Pleno ou ...   \n",
            "3  ...  Budgeted Rate - indicate currency and type (ho...   \n",
            "4  ...  contratação CLT full pela Decision locação rem...   \n",
            "\n",
            "  perfil_vaga.viagens_requeridas perfil_vaga.equipamentos_necessarios  \\\n",
            "0                                                            Nenhum -   \n",
            "1                                                            Nenhum -   \n",
            "2                                                            Nenhum -   \n",
            "3                            Não                    Notebook padrão -   \n",
            "4                            Sim                             Nenhum -   \n",
            "\n",
            "  beneficios.valor_venda beneficios.valor_compra_1 beneficios.valor_compra_2  \\\n",
            "0                      -                        R$                             \n",
            "1                      -                        R$                             \n",
            "2                      -                        R$                             \n",
            "3        - p/ mês (168h)                   fechado                             \n",
            "4                      -                        R$                             \n",
            "\n",
            "  informacoes_basicas.data_inicial informacoes_basicas.data_final  \\\n",
            "0                              NaN                            NaN   \n",
            "1                              NaN                            NaN   \n",
            "2                              NaN                            NaN   \n",
            "3                       18-05-2021                     17-01-2022   \n",
            "4                              NaN                            NaN   \n",
            "\n",
            "  perfil_vaga.habilidades_comportamentais_necessarias  \\\n",
            "0                                                NaN    \n",
            "1                                                NaN    \n",
            "2                                                NaN    \n",
            "3                                                NaN    \n",
            "4                                                NaN    \n",
            "\n",
            "  informacoes_basicas.nome_substituto  \n",
            "0                                 NaN  \n",
            "1                                 NaN  \n",
            "2                                 NaN  \n",
            "3                                 NaN  \n",
            "4                                 NaN  \n",
            "\n",
            "[5 rows x 45 columns]\n",
            "\n",
            "Prospecções:\n",
            "                       nome codigo           situacao_candidado  \\\n",
            "0               José Vieira  25632  Encaminhado ao Requisitante   \n",
            "1  Srta. Isabela Cavalcante  25529  Encaminhado ao Requisitante   \n",
            "2     Sra. Yasmin Fernandes  25364     Contratado pela Decision   \n",
            "3            Alexia Barbosa  25360  Encaminhado ao Requisitante   \n",
            "4            Arthur Almeida  26338     Contratado pela Decision   \n",
            "\n",
            "  data_candidatura ultima_atualizacao  \\\n",
            "0       25-03-2021         25-03-2021   \n",
            "1       22-03-2021         23-03-2021   \n",
            "2       17-03-2021         12-04-2021   \n",
            "3       17-03-2021         17-03-2021   \n",
            "4       29-04-2021         18-05-2021   \n",
            "\n",
            "                                          comentario         recrutador  \\\n",
            "0               Encaminhado para  - PJ R$ 72,00/hora  Ana Lívia Moreira   \n",
            "1  encaminhado para  - R$ 6.000,00 – CLT Full , n...  Ana Lívia Moreira   \n",
            "2                         Data de Inicio: 12/04/2021   Juliana Cassiano   \n",
            "3                                                      Juliana Cassiano   \n",
            "4                                                         Stella Vieira   \n",
            "\n",
            "  id_vaga  \n",
            "0    4530  \n",
            "1    4530  \n",
            "2    4531  \n",
            "3    4531  \n",
            "4    4533  \n",
            "\n",
            "Candidatos:\n",
            "                                               cv_pt cv_en id_candidato  \\\n",
            "0  assistente administrativo\\n\\n\\nsantosbatista\\n...              31000   \n",
            "1  formação acadêmica\\nensino médio (2º grau) em ...              31001   \n",
            "2  objetivo: área administrativa | financeira\\n\\n...              31002   \n",
            "3  formação\\nensino médio completo\\ninformática i...              31003   \n",
            "4  última atualização em 09/11/2021\\n­ sp\\n\\nensi...              31004   \n",
            "\n",
            "  infos_basicas.telefone_recado infos_basicas.telefone  \\\n",
            "0                                      (11) 97048-2708   \n",
            "1                                      (11) 93723-4396   \n",
            "2                                      (11) 92399-9824   \n",
            "3                                      (11) 98100-1727   \n",
            "4                                      (11) 92517-2678   \n",
            "\n",
            "  infos_basicas.objetivo_profissional infos_basicas.data_criacao  \\\n",
            "0                                            10-11-2021 07:29:49   \n",
            "1             Analista Administrativo        10-11-2021 08:56:16   \n",
            "2         Administrativo | Financeiro        10-11-2021 09:01:00   \n",
            "3                 Área administrativa        10-11-2021 09:08:13   \n",
            "4                                            10-11-2021 09:18:46   \n",
            "\n",
            "  infos_basicas.inserido_por                infos_basicas.email  \\\n",
            "0               Luna Correia       carolina_aparecida@gmail.com   \n",
            "1              Laura Pacheco           eduardo_rios@hotmail.com   \n",
            "2              Laura Pacheco  pedro_henrique_carvalho@gmail.com   \n",
            "3              Laura Pacheco         thiago_barbosa@hotmail.com   \n",
            "4          Maria Clara Pires        diogo_das_neves@hotmail.com   \n",
            "\n",
            "    infos_basicas.local  ... cargo_atual.id_ibrati  \\\n",
            "0                        ...                   NaN   \n",
            "1  São Paulo, São Paulo  ...                   NaN   \n",
            "2  São Paulo, São Paulo  ...                   NaN   \n",
            "3  São Paulo, São Paulo  ...                   NaN   \n",
            "4                        ...                   NaN   \n",
            "\n",
            "  cargo_atual.email_corporativo cargo_atual.cargo_atual  \\\n",
            "0                           NaN                     NaN   \n",
            "1                           NaN                     NaN   \n",
            "2                           NaN                     NaN   \n",
            "3                           NaN                     NaN   \n",
            "4                           NaN                     NaN   \n",
            "\n",
            "  cargo_atual.projeto_atual cargo_atual.cliente cargo_atual.unidade  \\\n",
            "0                       NaN                 NaN                 NaN   \n",
            "1                       NaN                 NaN                 NaN   \n",
            "2                       NaN                 NaN                 NaN   \n",
            "3                       NaN                 NaN                 NaN   \n",
            "4                       NaN                 NaN                 NaN   \n",
            "\n",
            "  cargo_atual.data_admissao cargo_atual.data_ultima_promocao  \\\n",
            "0                       NaN                              NaN   \n",
            "1                       NaN                              NaN   \n",
            "2                       NaN                              NaN   \n",
            "3                       NaN                              NaN   \n",
            "4                       NaN                              NaN   \n",
            "\n",
            "  cargo_atual.nome_superior_imediato cargo_atual.email_superior_imediato  \n",
            "0                                NaN                                 NaN  \n",
            "1                                NaN                                 NaN  \n",
            "2                                NaN                                 NaN  \n",
            "3                                NaN                                 NaN  \n",
            "4                                NaN                                 NaN  \n",
            "\n",
            "[5 rows x 58 columns]\n"
          ]
        }
      ]
    },
    {
      "cell_type": "markdown",
      "source": [
        "# 06 - Verificando as colunas dos DataFrames\n",
        "Nesta etapa, verificamos as colunas disponíveis para cada DataFrame, o que nos ajuda a entender melhor os dados e como podemos usá-los nas análises."
      ],
      "metadata": {
        "id": "SOqYOJw2b26v"
      }
    },
    {
      "cell_type": "code",
      "source": [
        "print(\"Colunas disponíveis em df_vagas:\")\n",
        "print(df_vagas.columns.tolist())\n",
        "\n",
        "print(\"Colunas disponíveis em df_prospeccoes:\")\n",
        "print(df_prospeccoes.columns.tolist())\n",
        "\n",
        "print(\"Colunas disponíveis em df_candidatos:\")\n",
        "print(df_candidatos.columns.tolist())\n"
      ],
      "metadata": {
        "colab": {
          "base_uri": "https://localhost:8080/"
        },
        "id": "QBUotd_sb98Y",
        "outputId": "0e9548a9-fcc7-45db-8e6c-585d36870d7a"
      },
      "execution_count": 7,
      "outputs": [
        {
          "output_type": "stream",
          "name": "stdout",
          "text": [
            "Colunas disponíveis em df_vagas:\n",
            "['id_vaga', 'informacoes_basicas.data_requicisao', 'informacoes_basicas.limite_esperado_para_contratacao', 'informacoes_basicas.titulo_vaga', 'informacoes_basicas.vaga_sap', 'informacoes_basicas.cliente', 'informacoes_basicas.solicitante_cliente', 'informacoes_basicas.empresa_divisao', 'informacoes_basicas.requisitante', 'informacoes_basicas.analista_responsavel', 'informacoes_basicas.tipo_contratacao', 'informacoes_basicas.prazo_contratacao', 'informacoes_basicas.objetivo_vaga', 'informacoes_basicas.prioridade_vaga', 'informacoes_basicas.origem_vaga', 'informacoes_basicas.superior_imediato', 'informacoes_basicas.nome', 'informacoes_basicas.telefone', 'perfil_vaga.pais', 'perfil_vaga.estado', 'perfil_vaga.cidade', 'perfil_vaga.bairro', 'perfil_vaga.regiao', 'perfil_vaga.local_trabalho', 'perfil_vaga.vaga_especifica_para_pcd', 'perfil_vaga.faixa_etaria', 'perfil_vaga.horario_trabalho', 'perfil_vaga.nivel profissional', 'perfil_vaga.nivel_academico', 'perfil_vaga.nivel_ingles', 'perfil_vaga.nivel_espanhol', 'perfil_vaga.outro_idioma', 'perfil_vaga.areas_atuacao', 'perfil_vaga.principais_atividades', 'perfil_vaga.competencia_tecnicas_e_comportamentais', 'perfil_vaga.demais_observacoes', 'perfil_vaga.viagens_requeridas', 'perfil_vaga.equipamentos_necessarios', 'beneficios.valor_venda', 'beneficios.valor_compra_1', 'beneficios.valor_compra_2', 'informacoes_basicas.data_inicial', 'informacoes_basicas.data_final', 'perfil_vaga.habilidades_comportamentais_necessarias', 'informacoes_basicas.nome_substituto']\n",
            "Colunas disponíveis em df_prospeccoes:\n",
            "['nome', 'codigo', 'situacao_candidado', 'data_candidatura', 'ultima_atualizacao', 'comentario', 'recrutador', 'id_vaga']\n",
            "Colunas disponíveis em df_candidatos:\n",
            "['cv_pt', 'cv_en', 'id_candidato', 'infos_basicas.telefone_recado', 'infos_basicas.telefone', 'infos_basicas.objetivo_profissional', 'infos_basicas.data_criacao', 'infos_basicas.inserido_por', 'infos_basicas.email', 'infos_basicas.local', 'infos_basicas.sabendo_de_nos_por', 'infos_basicas.data_atualizacao', 'infos_basicas.codigo_profissional', 'infos_basicas.nome', 'informacoes_pessoais.data_aceite', 'informacoes_pessoais.nome', 'informacoes_pessoais.cpf', 'informacoes_pessoais.fonte_indicacao', 'informacoes_pessoais.email', 'informacoes_pessoais.email_secundario', 'informacoes_pessoais.data_nascimento', 'informacoes_pessoais.telefone_celular', 'informacoes_pessoais.telefone_recado', 'informacoes_pessoais.sexo', 'informacoes_pessoais.estado_civil', 'informacoes_pessoais.pcd', 'informacoes_pessoais.endereco', 'informacoes_pessoais.skype', 'informacoes_pessoais.url_linkedin', 'informacoes_pessoais.facebook', 'informacoes_profissionais.titulo_profissional', 'informacoes_profissionais.area_atuacao', 'informacoes_profissionais.conhecimentos_tecnicos', 'informacoes_profissionais.certificacoes', 'informacoes_profissionais.outras_certificacoes', 'informacoes_profissionais.remuneracao', 'informacoes_profissionais.nivel_profissional', 'formacao_e_idiomas.nivel_academico', 'formacao_e_idiomas.nivel_ingles', 'formacao_e_idiomas.nivel_espanhol', 'formacao_e_idiomas.outro_idioma', 'formacao_e_idiomas.instituicao_ensino_superior', 'formacao_e_idiomas.cursos', 'formacao_e_idiomas.ano_conclusao', 'informacoes_pessoais.download_cv', 'informacoes_profissionais.qualificacoes', 'informacoes_profissionais.experiencias', 'formacao_e_idiomas.outro_curso', 'cargo_atual.id_ibrati', 'cargo_atual.email_corporativo', 'cargo_atual.cargo_atual', 'cargo_atual.projeto_atual', 'cargo_atual.cliente', 'cargo_atual.unidade', 'cargo_atual.data_admissao', 'cargo_atual.data_ultima_promocao', 'cargo_atual.nome_superior_imediato', 'cargo_atual.email_superior_imediato']\n"
          ]
        }
      ]
    },
    {
      "cell_type": "markdown",
      "source": [
        "# 07 - Analisando valores nulos\n",
        "Aqui, identificamos se existem valores ausentes nos DataFrames, o que pode afetar a qualidade da análise e da modelagem."
      ],
      "metadata": {
        "id": "pBJB5xtWcBN3"
      }
    },
    {
      "cell_type": "code",
      "source": [
        "print(\"Valores nulos em df_vagas:\")\n",
        "print(df_vagas.isnull().sum().sort_values(ascending=False))\n",
        "\n",
        "print(\"\\nValores nulos em df_prospeccoes:\")\n",
        "print(df_prospeccoes.isnull().sum().sort_values(ascending=False))\n",
        "\n",
        "print(\"\\nValores nulos em df_candidatos:\")\n",
        "print(df_candidatos.isnull().sum().sort_values(ascending=False))\n"
      ],
      "metadata": {
        "colab": {
          "base_uri": "https://localhost:8080/"
        },
        "id": "3R5-7mJ7cHlP",
        "outputId": "18dd598d-1321-4b77-bce1-11605981ccb8"
      },
      "execution_count": 8,
      "outputs": [
        {
          "output_type": "stream",
          "name": "stdout",
          "text": [
            "Valores nulos em df_vagas:\n",
            "informacoes_basicas.nome_substituto                     13733\n",
            "perfil_vaga.habilidades_comportamentais_necessarias     11396\n",
            "informacoes_basicas.data_inicial                         9625\n",
            "informacoes_basicas.data_final                           9625\n",
            "informacoes_basicas.telefone                             4762\n",
            "informacoes_basicas.nome                                 4456\n",
            "perfil_vaga.equipamentos_necessarios                     2685\n",
            "informacoes_basicas.superior_imediato                      42\n",
            "id_vaga                                                     0\n",
            "informacoes_basicas.data_requicisao                         0\n",
            "informacoes_basicas.limite_esperado_para_contratacao        0\n",
            "informacoes_basicas.titulo_vaga                             0\n",
            "informacoes_basicas.vaga_sap                                0\n",
            "informacoes_basicas.objetivo_vaga                           0\n",
            "informacoes_basicas.prazo_contratacao                       0\n",
            "informacoes_basicas.tipo_contratacao                        0\n",
            "informacoes_basicas.analista_responsavel                    0\n",
            "informacoes_basicas.requisitante                            0\n",
            "informacoes_basicas.empresa_divisao                         0\n",
            "informacoes_basicas.solicitante_cliente                     0\n",
            "informacoes_basicas.cliente                                 0\n",
            "perfil_vaga.bairro                                          0\n",
            "perfil_vaga.regiao                                          0\n",
            "perfil_vaga.local_trabalho                                  0\n",
            "informacoes_basicas.origem_vaga                             0\n",
            "informacoes_basicas.prioridade_vaga                         0\n",
            "perfil_vaga.pais                                            0\n",
            "perfil_vaga.estado                                          0\n",
            "perfil_vaga.cidade                                          0\n",
            "perfil_vaga.nivel_academico                                 0\n",
            "perfil_vaga.nivel profissional                              0\n",
            "perfil_vaga.horario_trabalho                                0\n",
            "perfil_vaga.faixa_etaria                                    0\n",
            "perfil_vaga.vaga_especifica_para_pcd                        0\n",
            "perfil_vaga.nivel_ingles                                    0\n",
            "perfil_vaga.outro_idioma                                    0\n",
            "perfil_vaga.nivel_espanhol                                  0\n",
            "perfil_vaga.viagens_requeridas                              0\n",
            "perfil_vaga.demais_observacoes                              0\n",
            "perfil_vaga.competencia_tecnicas_e_comportamentais          0\n",
            "perfil_vaga.principais_atividades                           0\n",
            "perfil_vaga.areas_atuacao                                   0\n",
            "beneficios.valor_compra_2                                   0\n",
            "beneficios.valor_venda                                      0\n",
            "beneficios.valor_compra_1                                   0\n",
            "dtype: int64\n",
            "\n",
            "Valores nulos em df_prospeccoes:\n",
            "nome                  0\n",
            "codigo                0\n",
            "situacao_candidado    0\n",
            "data_candidatura      0\n",
            "ultima_atualizacao    0\n",
            "comentario            0\n",
            "recrutador            0\n",
            "id_vaga               0\n",
            "dtype: int64\n",
            "\n",
            "Valores nulos em df_candidatos:\n",
            "formacao_e_idiomas.outro_curso                      41673\n",
            "informacoes_profissionais.experiencias              41538\n",
            "cargo_atual.email_superior_imediato                 41538\n",
            "cargo_atual.data_ultima_promocao                    41538\n",
            "cargo_atual.nome_superior_imediato                  41538\n",
            "cargo_atual.unidade                                 41538\n",
            "cargo_atual.projeto_atual                           41538\n",
            "cargo_atual.cliente                                 41538\n",
            "cargo_atual.cargo_atual                             41538\n",
            "cargo_atual.id_ibrati                               41538\n",
            "cargo_atual.email_corporativo                       41538\n",
            "informacoes_profissionais.qualificacoes             41538\n",
            "cargo_atual.data_admissao                           41538\n",
            "informacoes_pessoais.download_cv                    36920\n",
            "formacao_e_idiomas.ano_conclusao                    35273\n",
            "formacao_e_idiomas.instituicao_ensino_superior      35273\n",
            "formacao_e_idiomas.cursos                           35273\n",
            "cv_pt                                                   0\n",
            "id_candidato                                            0\n",
            "infos_basicas.telefone_recado                           0\n",
            "infos_basicas.telefone                                  0\n",
            "infos_basicas.objetivo_profissional                     0\n",
            "infos_basicas.data_criacao                              0\n",
            "infos_basicas.inserido_por                              0\n",
            "infos_basicas.email                                     0\n",
            "cv_en                                                   0\n",
            "informacoes_pessoais.pcd                                0\n",
            "informacoes_pessoais.estado_civil                       0\n",
            "informacoes_pessoais.sexo                               0\n",
            "informacoes_pessoais.telefone_recado                    0\n",
            "informacoes_pessoais.telefone_celular                   0\n",
            "informacoes_pessoais.data_nascimento                    0\n",
            "informacoes_pessoais.email_secundario                   0\n",
            "informacoes_pessoais.email                              0\n",
            "informacoes_pessoais.fonte_indicacao                    0\n",
            "informacoes_pessoais.cpf                                0\n",
            "informacoes_pessoais.nome                               0\n",
            "informacoes_pessoais.data_aceite                        0\n",
            "infos_basicas.nome                                      0\n",
            "infos_basicas.codigo_profissional                       0\n",
            "infos_basicas.data_atualizacao                          0\n",
            "infos_basicas.sabendo_de_nos_por                        0\n",
            "infos_basicas.local                                     0\n",
            "formacao_e_idiomas.outro_idioma                         0\n",
            "formacao_e_idiomas.nivel_ingles                         0\n",
            "formacao_e_idiomas.nivel_espanhol                       0\n",
            "informacoes_profissionais.remuneracao                   0\n",
            "informacoes_profissionais.nivel_profissional            0\n",
            "informacoes_profissionais.outras_certificacoes          0\n",
            "formacao_e_idiomas.nivel_academico                      0\n",
            "informacoes_pessoais.facebook                           0\n",
            "informacoes_profissionais.conhecimentos_tecnicos        0\n",
            "informacoes_profissionais.area_atuacao                  0\n",
            "informacoes_profissionais.titulo_profissional           0\n",
            "informacoes_pessoais.skype                              0\n",
            "informacoes_pessoais.url_linkedin                       0\n",
            "informacoes_pessoais.endereco                           0\n",
            "informacoes_profissionais.certificacoes                 0\n",
            "dtype: int64\n"
          ]
        }
      ]
    },
    {
      "cell_type": "markdown",
      "source": [
        "# 08 - Distribuição da situação dos candidatos\n",
        "\n",
        "Aqui, plotamos a distribuição das situações dos candidatos, o que pode ser útil para entender como estão os resultados das prospecções."
      ],
      "metadata": {
        "id": "UV1Je0EccKp3"
      }
    },
    {
      "cell_type": "code",
      "source": [
        "if 'situacao_candidado' in df_prospeccoes.columns:\n",
        "    situacao_counts = df_prospeccoes['situacao_candidado'].value_counts()\n",
        "    plt.figure(figsize=(10, 6))\n",
        "    sns.barplot(x=situacao_counts.values, y=situacao_counts.index, palette=\"viridis\")\n",
        "    plt.title(\"Distribuição da Situação dos Candidatos\")\n",
        "    plt.xlabel(\"Quantidade\")\n",
        "    plt.ylabel(\"Situação\")\n",
        "    plt.tight_layout()\n",
        "    plt.show()\n",
        "else:\n",
        "    print(\"Coluna 'situacao' não encontrada. Verifique o nome correto.\")\n"
      ],
      "metadata": {
        "colab": {
          "base_uri": "https://localhost:8080/",
          "height": 694
        },
        "id": "NpCY5I3IcSuX",
        "outputId": "13690ade-156c-44ab-d61e-1c2d123c69d4"
      },
      "execution_count": 9,
      "outputs": [
        {
          "output_type": "stream",
          "name": "stderr",
          "text": [
            "/tmp/ipython-input-9-3941597885.py:4: FutureWarning: \n",
            "\n",
            "Passing `palette` without assigning `hue` is deprecated and will be removed in v0.14.0. Assign the `y` variable to `hue` and set `legend=False` for the same effect.\n",
            "\n",
            "  sns.barplot(x=situacao_counts.values, y=situacao_counts.index, palette=\"viridis\")\n"
          ]
        },
        {
          "output_type": "display_data",
          "data": {
            "text/plain": [
              "<Figure size 1000x600 with 1 Axes>"
            ],
            "image/png": "[encoded data removed]"
          },
          "metadata": {}
        }
      ]
    },
    {
      "cell_type": "markdown",
      "source": [
        "# 09 - Consolidando os dados em um único DataFrame\n",
        "Nesta etapa, realizamos a fusão dos três DataFrames para criar um único conjunto de dados completo (df_completo)."
      ],
      "metadata": {
        "id": "kdQCNRFAcXHX"
      }
    },
    {
      "cell_type": "code",
      "source": [
        "df_prospeccoes = df_prospeccoes.rename(columns={'codigo': 'id_candidato'})\n",
        "\n",
        "df_completo = df_prospeccoes.merge(df_vagas, on='id_vaga', how='left')\n",
        "df_completo = df_completo.merge(df_candidatos, on='id_candidato', how='left')\n",
        "\n",
        "print(f\"Shape final do DataFrame consolidado: {df_completo.shape}\")\n",
        "print(df_completo[['id_vaga', 'id_candidato', 'situacao_candidado']].head())\n",
        "\n",
        "print(\"Colunas disponíveis em df_completo:\")\n",
        "print(df_completo.columns.tolist())\n",
        "\n",
        "print(\"Registros em df_prospeccoes:\", df_prospeccoes.shape[0])\n",
        "print(\"Registros após merge (df_completo):\", df_completo.shape[0])\n",
        "\n",
        "print(\"Vagas ausentes no merge:\", df_completo['informacoes_basicas.titulo_vaga'].isnull().sum())\n",
        "print(\"Candidatos ausentes no merge:\", df_completo['infos_basicas.nome'].isnull().sum())\n",
        "\n",
        "print(df_prospeccoes['id_candidato'].dtype)\n",
        "print(df_candidatos['id_candidato'].dtype)\n",
        "\n",
        "df_completo[['id_candidato', 'id_vaga', 'situacao_candidado',\n",
        "             'perfil_vaga.nivel_ingles', 'formacao_e_idiomas.nivel_ingles',\n",
        "             'informacoes_profissionais.area_atuacao']].sample(5)\n",
        "\n",
        "situacoes_contratado = ['Contratado pela Decision', 'Contratado como Hunting']\n",
        "\n",
        "df_completo['foi_contratado'] = df_completo['situacao_candidado'].isin(situacoes_contratado).astype(int)\n",
        "\n",
        "print(\"Distribuição da variável `foi_contratado`:\")\n",
        "print(df_completo['foi_contratado'].value_counts())\n",
        "\n",
        "percentual = (df_completo['foi_contratado'].value_counts(normalize=True) * 100).round(2)\n",
        "print(\"\\nPercentual:\")\n",
        "print(percentual)\n",
        "\n",
        "import matplotlib.pyplot as plt\n",
        "import seaborn as sns\n",
        "\n",
        "contagem = df_completo['foi_contratado'].value_counts().sort_index()\n",
        "labels = ['Não contratado', 'Contratado']\n",
        "\n",
        "plt.figure(figsize=(8, 4))\n",
        "sns.barplot(x=contagem.values, y=labels, palette=\"crest\")\n",
        "plt.title(\"Distribuição da Variável Alvo: Foi Contratado\")\n",
        "plt.xlabel(\"Quantidade\")\n",
        "plt.ylabel(\"Situação\")\n",
        "plt.tight_layout()\n",
        "plt.show()\n",
        "\n",
        "contagem = df_completo['foi_contratado'].value_counts().sort_index()\n",
        "percentual = df_completo['foi_contratado'].value_counts(normalize=True).sort_index() * 100\n",
        "\n",
        "df_alvo = pd.DataFrame({\n",
        "    'Classe': ['Não Contratado', 'Contratado'],\n",
        "    'Quantidade': contagem.values,\n",
        "    'Percentual (%)': percentual.round(2).values\n",
        "})\n",
        "\n",
        "print(\"\\nTabela da variável alvo (`foi_contratado`):\")\n",
        "print(df_alvo)\n",
        "\n",
        "colunas_modelo = [\n",
        "    'perfil_vaga.estado',\n",
        "    'perfil_vaga.cidade',\n",
        "    'perfil_vaga.regiao',\n",
        "    'perfil_vaga.nivel_academico',\n",
        "    'perfil_vaga.nivel_ingles',\n",
        "    'perfil_vaga.nivel_espanhol',\n",
        "    'perfil_vaga.areas_atuacao',\n",
        "    'perfil_vaga.vaga_especifica_para_pcd',\n",
        "    'informacoes_basicas.prioridade_vaga',\n",
        "    'informacoes_profissionais.area_atuacao',\n",
        "    'informacoes_profissionais.nivel_profissional',\n",
        "    'formacao_e_idiomas.nivel_academico',\n",
        "    'formacao_e_idiomas.nivel_ingles',\n",
        "    'formacao_e_idiomas.nivel_espanhol',\n",
        "    'formacao_e_idiomas.outro_idioma',\n",
        "    'formacao_e_idiomas.instituicao_ensino_superior',\n",
        "    'formacao_e_idiomas.ano_conclusao',\n",
        "    'foi_contratado']\n",
        "\n",
        "\n",
        "df_modelo = df_completo[colunas_modelo].copy()\n",
        "\n",
        "colunas_categoricas = df_modelo.select_dtypes(include=['object', 'category']).columns.tolist()\n",
        "colunas_numericas = df_modelo.select_dtypes(include=['int64', 'float64']).columns.tolist()\n",
        "\n",
        "from sklearn.impute import SimpleImputer\n",
        "\n",
        "colunas_categoricas = df_modelo.select_dtypes(include=['object', 'category']).columns.tolist()\n",
        "colunas_numericas = df_modelo.select_dtypes(include=['int64', 'float64']).columns.tolist()\n",
        "\n",
        "if colunas_categoricas:\n",
        "    imp_cat = SimpleImputer(strategy='constant', fill_value='Desconhecido')\n",
        "    df_modelo[colunas_categoricas] = imp_cat.fit_transform(df_modelo[colunas_categoricas])\n",
        "\n",
        "if colunas_numericas:\n",
        "    imp_num = SimpleImputer(strategy='median')\n",
        "    df_modelo[colunas_numericas] = imp_num.fit_transform(df_modelo[colunas_numericas])\n",
        "\n",
        "print(\"Valores nulos restantes por coluna:\")\n",
        "print(df_modelo.isnull().sum().sort_values(ascending=False))"
      ],
      "metadata": {
        "colab": {
          "base_uri": "https://localhost:8080/",
          "height": 1000
        },
        "id": "WAPhCSkAcdtH",
        "outputId": "b5c6d356-1eaa-436b-b40e-c73830c7c55c"
      },
      "execution_count": 10,
      "outputs": [
        {
          "output_type": "stream",
          "name": "stdout",
          "text": [
            "Shape final do DataFrame consolidado: (53759, 109)\n",
            "  id_vaga id_candidato           situacao_candidado\n",
            "0    4530        25632  Encaminhado ao Requisitante\n",
            "1    4530        25529  Encaminhado ao Requisitante\n",
            "2    4531        25364     Contratado pela Decision\n",
            "3    4531        25360  Encaminhado ao Requisitante\n",
            "4    4533        26338     Contratado pela Decision\n",
            "Colunas disponíveis em df_completo:\n",
            "['nome', 'id_candidato', 'situacao_candidado', 'data_candidatura', 'ultima_atualizacao', 'comentario', 'recrutador', 'id_vaga', 'informacoes_basicas.data_requicisao', 'informacoes_basicas.limite_esperado_para_contratacao', 'informacoes_basicas.titulo_vaga', 'informacoes_basicas.vaga_sap', 'informacoes_basicas.cliente', 'informacoes_basicas.solicitante_cliente', 'informacoes_basicas.empresa_divisao', 'informacoes_basicas.requisitante', 'informacoes_basicas.analista_responsavel', 'informacoes_basicas.tipo_contratacao', 'informacoes_basicas.prazo_contratacao', 'informacoes_basicas.objetivo_vaga', 'informacoes_basicas.prioridade_vaga', 'informacoes_basicas.origem_vaga', 'informacoes_basicas.superior_imediato', 'informacoes_basicas.nome', 'informacoes_basicas.telefone', 'perfil_vaga.pais', 'perfil_vaga.estado', 'perfil_vaga.cidade', 'perfil_vaga.bairro', 'perfil_vaga.regiao', 'perfil_vaga.local_trabalho', 'perfil_vaga.vaga_especifica_para_pcd', 'perfil_vaga.faixa_etaria', 'perfil_vaga.horario_trabalho', 'perfil_vaga.nivel profissional', 'perfil_vaga.nivel_academico', 'perfil_vaga.nivel_ingles', 'perfil_vaga.nivel_espanhol', 'perfil_vaga.outro_idioma', 'perfil_vaga.areas_atuacao', 'perfil_vaga.principais_atividades', 'perfil_vaga.competencia_tecnicas_e_comportamentais', 'perfil_vaga.demais_observacoes', 'perfil_vaga.viagens_requeridas', 'perfil_vaga.equipamentos_necessarios', 'beneficios.valor_venda', 'beneficios.valor_compra_1', 'beneficios.valor_compra_2', 'informacoes_basicas.data_inicial', 'informacoes_basicas.data_final', 'perfil_vaga.habilidades_comportamentais_necessarias', 'informacoes_basicas.nome_substituto', 'cv_pt', 'cv_en', 'infos_basicas.telefone_recado', 'infos_basicas.telefone', 'infos_basicas.objetivo_profissional', 'infos_basicas.data_criacao', 'infos_basicas.inserido_por', 'infos_basicas.email', 'infos_basicas.local', 'infos_basicas.sabendo_de_nos_por', 'infos_basicas.data_atualizacao', 'infos_basicas.codigo_profissional', 'infos_basicas.nome', 'informacoes_pessoais.data_aceite', 'informacoes_pessoais.nome', 'informacoes_pessoais.cpf', 'informacoes_pessoais.fonte_indicacao', 'informacoes_pessoais.email', 'informacoes_pessoais.email_secundario', 'informacoes_pessoais.data_nascimento', 'informacoes_pessoais.telefone_celular', 'informacoes_pessoais.telefone_recado', 'informacoes_pessoais.sexo', 'informacoes_pessoais.estado_civil', 'informacoes_pessoais.pcd', 'informacoes_pessoais.endereco', 'informacoes_pessoais.skype', 'informacoes_pessoais.url_linkedin', 'informacoes_pessoais.facebook', 'informacoes_profissionais.titulo_profissional', 'informacoes_profissionais.area_atuacao', 'informacoes_profissionais.conhecimentos_tecnicos', 'informacoes_profissionais.certificacoes', 'informacoes_profissionais.outras_certificacoes', 'informacoes_profissionais.remuneracao', 'informacoes_profissionais.nivel_profissional', 'formacao_e_idiomas.nivel_academico', 'formacao_e_idiomas.nivel_ingles', 'formacao_e_idiomas.nivel_espanhol', 'formacao_e_idiomas.outro_idioma', 'formacao_e_idiomas.instituicao_ensino_superior', 'formacao_e_idiomas.cursos', 'formacao_e_idiomas.ano_conclusao', 'informacoes_pessoais.download_cv', 'informacoes_profissionais.qualificacoes', 'informacoes_profissionais.experiencias', 'formacao_e_idiomas.outro_curso', 'cargo_atual.id_ibrati', 'cargo_atual.email_corporativo', 'cargo_atual.cargo_atual', 'cargo_atual.projeto_atual', 'cargo_atual.cliente', 'cargo_atual.unidade', 'cargo_atual.data_admissao', 'cargo_atual.data_ultima_promocao', 'cargo_atual.nome_superior_imediato', 'cargo_atual.email_superior_imediato']\n",
            "Registros em df_prospeccoes: 53759\n",
            "Registros após merge (df_completo): 53759\n",
            "Vagas ausentes no merge: 24\n",
            "Candidatos ausentes no merge: 8664\n",
            "object\n",
            "object\n",
            "Distribuição da variável `foi_contratado`:\n",
            "foi_contratado\n",
            "0    50775\n",
            "1     2984\n",
            "Name: count, dtype: int64\n",
            "\n",
            "Percentual:\n",
            "foi_contratado\n",
            "0    94.45\n",
            "1     5.55\n",
            "Name: proportion, dtype: float64\n"
          ]
        },
        {
          "output_type": "stream",
          "name": "stderr",
          "text": [
            "/tmp/ipython-input-10-3643696012.py:43: FutureWarning: \n",
            "\n",
            "Passing `palette` without assigning `hue` is deprecated and will be removed in v0.14.0. Assign the `y` variable to `hue` and set `legend=False` for the same effect.\n",
            "\n",
            "  sns.barplot(x=contagem.values, y=labels, palette=\"crest\")\n"
          ]
        },
        {
          "output_type": "display_data",
          "data": {
            "text/plain": [
              "<Figure size 800x400 with 1 Axes>"
            ],
            "image/png": "[encoded data removed]"
          },
          "metadata": {}
        },
        {
          "output_type": "stream",
          "name": "stdout",
          "text": [
            "\n",
            "Tabela da variável alvo (`foi_contratado`):\n",
            "           Classe  Quantidade  Percentual (%)\n",
            "0  Não Contratado       50775           94.45\n",
            "1      Contratado        2984            5.55\n",
            "Valores nulos restantes por coluna:\n",
            "perfil_vaga.estado                                0\n",
            "perfil_vaga.cidade                                0\n",
            "perfil_vaga.regiao                                0\n",
            "perfil_vaga.nivel_academico                       0\n",
            "perfil_vaga.nivel_ingles                          0\n",
            "perfil_vaga.nivel_espanhol                        0\n",
            "perfil_vaga.areas_atuacao                         0\n",
            "perfil_vaga.vaga_especifica_para_pcd              0\n",
            "informacoes_basicas.prioridade_vaga               0\n",
            "informacoes_profissionais.area_atuacao            0\n",
            "informacoes_profissionais.nivel_profissional      0\n",
            "formacao_e_idiomas.nivel_academico                0\n",
            "formacao_e_idiomas.nivel_ingles                   0\n",
            "formacao_e_idiomas.nivel_espanhol                 0\n",
            "formacao_e_idiomas.outro_idioma                   0\n",
            "formacao_e_idiomas.instituicao_ensino_superior    0\n",
            "formacao_e_idiomas.ano_conclusao                  0\n",
            "foi_contratado                                    0\n",
            "dtype: int64\n"
          ]
        }
      ]
    },
    {
      "cell_type": "markdown",
      "source": [
        "# 10 - Imports novas Bibliotecas\n"
      ],
      "metadata": {
        "id": "09iUVXmrd4kX"
      }
    },
    {
      "cell_type": "code",
      "source": [
        "import pandas as pd\n",
        "import numpy as np\n",
        "import matplotlib.pyplot as plt\n",
        "import seaborn as sns\n",
        "\n",
        "from sklearn.model_selection import train_test_split, GridSearchCV\n",
        "from sklearn.ensemble import RandomForestClassifier\n",
        "from sklearn.metrics import (\n",
        "    accuracy_score, classification_report, confusion_matrix,\n",
        "    roc_curve, roc_auc_score, recall_score, f1_score\n",
        ")\n",
        "from sklearn.compose import ColumnTransformer\n",
        "from sklearn.pipeline import Pipeline\n",
        "from sklearn.preprocessing import OneHotEncoder\n",
        "from sklearn.impute import SimpleImputer\n",
        "\n",
        "from xgboost import XGBClassifier\n",
        "import joblib"
      ],
      "metadata": {
        "id": "aMbW_k61eCPX"
      },
      "execution_count": 11,
      "outputs": []
    },
    {
      "cell_type": "markdown",
      "source": [
        "# 11 - Definindo a variável alvo e treinando o modelo\n",
        "Aqui, definimos a variável alvo (foi_contratado) e as variáveis independentes, além de dividir os dados em treino e teste."
      ],
      "metadata": {
        "id": "2-gGh2y-ciTv"
      }
    },
    {
      "cell_type": "code",
      "source": [
        "y = df_modelo['foi_contratado']\n",
        "X = df_modelo.drop(columns='foi_contratado')\n",
        "\n",
        "X_train, X_test, y_train, y_test = train_test_split(\n",
        "    X, y, test_size=0.2, random_state=42, stratify=y\n",
        ")\n"
      ],
      "metadata": {
        "id": "EcaoRjYWcoKX"
      },
      "execution_count": 12,
      "outputs": []
    },
    {
      "cell_type": "markdown",
      "source": [
        "# 12 - Modelagem com Random Forest\n",
        "Aqui, usamos o Random Forest para treinar o modelo. Utilizamos GridSearchCV para otimizar os hiperparâmetros."
      ],
      "metadata": {
        "id": "VjjndhScdW7A"
      }
    },
    {
      "cell_type": "code",
      "source": [
        "colunas_categoricas = X_train.select_dtypes(include='object').columns.tolist()\n",
        "colunas_numericas = X_train.select_dtypes(include=['int64', 'float64']).columns.tolist()\n",
        "\n",
        "num_pipeline = Pipeline([\n",
        "    ('imputer', SimpleImputer(strategy='median'))\n",
        "])\n",
        "\n",
        "cat_pipeline = Pipeline([\n",
        "    ('imputer', SimpleImputer(strategy='constant', fill_value='Desconhecido')),\n",
        "    ('encoder', OneHotEncoder(drop='first', handle_unknown='ignore'))\n",
        "])\n",
        "\n",
        "preprocessador = ColumnTransformer([\n",
        "    ('num', num_pipeline, colunas_numericas),\n",
        "    ('cat', cat_pipeline, colunas_categoricas)\n",
        "])\n",
        "\n",
        "\n",
        "\n",
        "pipeline_rf = Pipeline([\n",
        "    ('preprocessamento', preprocessador),\n",
        "    ('classificador', RandomForestClassifier(random_state=42, class_weight='balanced'))\n",
        "])\n",
        "\n",
        "param_grid = {\n",
        "    'classificador__n_estimators': [100, 200],\n",
        "    'classificador__max_depth': [None, 10],\n",
        "    'classificador__max_features': ['sqrt', 'log2']\n",
        "}\n",
        "\n",
        "grid_search = GridSearchCV(\n",
        "    estimator=pipeline_rf,\n",
        "    param_grid=param_grid,\n",
        "    scoring='roc_auc',\n",
        "    cv=3,\n",
        "    n_jobs=-1,\n",
        "    verbose=1\n",
        ")\n",
        "\n",
        "grid_search.fit(X_train, y_train)\n",
        "melhor_pipeline_rf = grid_search.best_estimator_\n",
        "\n",
        "print(\"\\nMelhores parâmetros RF:\", grid_search.best_params_)\n",
        "print(\"Melhor AUC validação cruzada RF:\", grid_search.best_score_)\n"
      ],
      "metadata": {
        "colab": {
          "base_uri": "https://localhost:8080/"
        },
        "id": "OJWZr0uydcVn",
        "outputId": "8b0457e2-0c61-4400-dda2-e67c3c9e3007"
      },
      "execution_count": 13,
      "outputs": [
        {
          "output_type": "stream",
          "name": "stdout",
          "text": [
            "Fitting 3 folds for each of 8 candidates, totalling 24 fits\n",
            "\n",
            "Melhores parâmetros RF: {'classificador__max_depth': 10, 'classificador__max_features': 'sqrt', 'classificador__n_estimators': 200}\n",
            "Melhor AUC validação cruzada RF: 0.7347517697466396\n"
          ]
        }
      ]
    },
    {
      "cell_type": "markdown",
      "source": [
        "# 13 - Avaliação do modelo\n",
        "Aqui, avaliamos a performance do modelo utilizando a acurácia e a matriz de confusão."
      ],
      "metadata": {
        "id": "diKTZwscfwHX"
      }
    },
    {
      "cell_type": "code",
      "source": [
        "y_pred_rf = melhor_pipeline_rf.predict(X_test)\n",
        "y_proba_rf = melhor_pipeline_rf.predict_proba(X_test)[:, 1]\n",
        "\n",
        "print(\"\\nRandom Forest Final\")\n",
        "print(\"Acurácia:\", accuracy_score(y_test, y_pred_rf))\n",
        "print(classification_report(y_test, y_pred_rf))\n",
        "print(confusion_matrix(y_test, y_pred_rf))\n",
        "\n",
        "fpr_rf, tpr_rf, _ = roc_curve(y_test, y_proba_rf)\n",
        "auc_rf = roc_auc_score(y_test, y_proba_rf)\n",
        "\n",
        "plt.figure(figsize=(8, 6))\n",
        "plt.plot(fpr_rf, tpr_rf, label=f'AUC RF = {auc_rf:.3f}')\n",
        "plt.plot([0, 1], [0, 1], 'k--')\n",
        "plt.xlabel('Falso Positivo')\n",
        "plt.ylabel('Verdadeiro Positivo')\n",
        "plt.title('Curva ROC - Random Forest')\n",
        "plt.legend()\n",
        "plt.grid()\n",
        "plt.show()\n"
      ],
      "metadata": {
        "colab": {
          "base_uri": "https://localhost:8080/",
          "height": 896
        },
        "id": "ThkCmh79fzmn",
        "outputId": "64e7f35a-1586-41d6-a1b0-41c6a1854e17"
      },
      "execution_count": 14,
      "outputs": [
        {
          "output_type": "stream",
          "name": "stderr",
          "text": [
            "/usr/local/lib/python3.11/dist-packages/sklearn/preprocessing/_encoders.py:246: UserWarning: Found unknown categories in columns [1, 9, 14, 15, 16] during transform. These unknown categories will be encoded as all zeros\n",
            "  warnings.warn(\n",
            "/usr/local/lib/python3.11/dist-packages/sklearn/preprocessing/_encoders.py:246: UserWarning: Found unknown categories in columns [1, 9, 14, 15, 16] during transform. These unknown categories will be encoded as all zeros\n",
            "  warnings.warn(\n"
          ]
        },
        {
          "output_type": "stream",
          "name": "stdout",
          "text": [
            "\n",
            "Random Forest Final\n",
            "Acurácia: 0.7567894345238095\n",
            "              precision    recall  f1-score   support\n",
            "\n",
            "         0.0       0.97      0.77      0.86     10155\n",
            "         1.0       0.13      0.58      0.21       597\n",
            "\n",
            "    accuracy                           0.76     10752\n",
            "   macro avg       0.55      0.67      0.53     10752\n",
            "weighted avg       0.92      0.76      0.82     10752\n",
            "\n",
            "[[7790 2365]\n",
            " [ 250  347]]\n"
          ]
        },
        {
          "output_type": "display_data",
          "data": {
            "text/plain": [
              "<Figure size 800x600 with 1 Axes>"
            ],
            "image/png": "[encoded data removed]"
          },
          "metadata": {}
        }
      ]
    },
    {
      "cell_type": "markdown",
      "source": [
        "# 14 - Comparação Final entre Modelos\n",
        "Agora, vamos comparar os resultados dos dois modelos (Random Forest e XGBoost), levando em consideração a acurácia, o recall, o F1-score e o AUC (Área sob a Curva ROC)."
      ],
      "metadata": {
        "id": "oz8_KzNLgDXP"
      }
    },
    {
      "cell_type": "code",
      "source": [
        "X_train_proc = preprocessador.fit_transform(X_train)\n",
        "X_test_proc = preprocessador.transform(X_test)\n",
        "\n",
        "modelo_xgb = XGBClassifier(\n",
        "    n_estimators=100,\n",
        "    max_depth=5,\n",
        "    learning_rate=0.1,\n",
        "    use_label_encoder=False,\n",
        "    eval_metric='logloss',\n",
        "    random_state=42\n",
        ")\n",
        "\n",
        "modelo_xgb.fit(X_train_proc, y_train)\n",
        "\n",
        "X_test_proc = preprocessador.transform(X_test)\n",
        "y_pred_xgb = modelo_xgb.predict(X_test_proc)\n",
        "y_proba_xgb = modelo_xgb.predict_proba(X_test_proc)[:, 1]\n",
        "\n",
        "\n",
        "print(\"\\nXGBoost\")\n",
        "print(\"Acurácia:\", accuracy_score(y_test, y_pred_xgb))\n",
        "print(classification_report(y_test, y_pred_xgb))\n",
        "print(confusion_matrix(y_test, y_pred_xgb))\n",
        "\n",
        "fpr_xgb, tpr_xgb, _ = roc_curve(y_test, y_proba_xgb)\n",
        "auc_xgb = roc_auc_score(y_test, y_proba_xgb)\n",
        "\n",
        "plt.figure(figsize=(8, 6))\n",
        "plt.plot(fpr_xgb, tpr_xgb, label=f'AUC XGB = {auc_xgb:.3f}')\n",
        "plt.plot([0, 1], [0, 1], 'k--')\n",
        "plt.xlabel('Falso Positivo')\n",
        "plt.ylabel('Verdadeiro Positivo')\n",
        "plt.title('Curva ROC - XGBoost')\n",
        "plt.legend()\n",
        "plt.grid()\n",
        "plt.show()\n"
      ],
      "metadata": {
        "colab": {
          "base_uri": "https://localhost:8080/",
          "height": 966
        },
        "id": "8Q__tFVohJC3",
        "outputId": "ee99b1f3-ccd2-4618-a567-e00714358810"
      },
      "execution_count": 15,
      "outputs": [
        {
          "output_type": "stream",
          "name": "stderr",
          "text": [
            "/usr/local/lib/python3.11/dist-packages/sklearn/preprocessing/_encoders.py:246: UserWarning: Found unknown categories in columns [1, 9, 14, 15, 16] during transform. These unknown categories will be encoded as all zeros\n",
            "  warnings.warn(\n",
            "/usr/local/lib/python3.11/dist-packages/xgboost/core.py:158: UserWarning: [00:49:41] WARNING: /workspace/src/learner.cc:740: \n",
            "Parameters: { \"use_label_encoder\" } are not used.\n",
            "\n",
            "  warnings.warn(smsg, UserWarning)\n",
            "/usr/local/lib/python3.11/dist-packages/sklearn/preprocessing/_encoders.py:246: UserWarning: Found unknown categories in columns [1, 9, 14, 15, 16] during transform. These unknown categories will be encoded as all zeros\n",
            "  warnings.warn(\n"
          ]
        },
        {
          "output_type": "stream",
          "name": "stdout",
          "text": [
            "\n",
            "XGBoost\n",
            "Acurácia: 0.9450334821428571\n",
            "              precision    recall  f1-score   support\n",
            "\n",
            "         0.0       0.95      1.00      0.97     10155\n",
            "         1.0       0.57      0.04      0.07       597\n",
            "\n",
            "    accuracy                           0.95     10752\n",
            "   macro avg       0.76      0.52      0.52     10752\n",
            "weighted avg       0.93      0.95      0.92     10752\n",
            "\n",
            "[[10138    17]\n",
            " [  574    23]]\n"
          ]
        },
        {
          "output_type": "display_data",
          "data": {
            "text/plain": [
              "<Figure size 800x600 with 1 Axes>"
            ],
            "image/png": "[encoded data removed]"
          },
          "metadata": {}
        }
      ]
    },
    {
      "cell_type": "markdown",
      "source": [
        "# 15 - Comparação de Desempenho dos Modelos e salvamentos Pré-processadores para Produção\n",
        "Essas ações asseguram que todo o processo, desde o treinamento até a aplicação do modelo em produção, esteja bem documentado e pronto para ser usado de forma eficiente e escalável."
      ],
      "metadata": {
        "id": "4WIXCvGKmLqe"
      }
    },
    {
      "cell_type": "code",
      "source": [
        "\n",
        "df_resultados = pd.DataFrame([\n",
        "    {\n",
        "        'Modelo': 'Random Forest',\n",
        "        'Acurácia': accuracy_score(y_test, y_pred_rf),\n",
        "        'Recall Classe 1': recall_score(y_test, y_pred_rf),\n",
        "        'F1 Classe 1': f1_score(y_test, y_pred_rf),\n",
        "        'AUC': auc_rf\n",
        "    },\n",
        "    {\n",
        "        'Modelo': 'XGBoost',\n",
        "        'Acurácia': accuracy_score(y_test, y_pred_xgb),\n",
        "        'Recall Classe 1': recall_score(y_test, y_pred_xgb),\n",
        "        'F1 Classe 1': f1_score(y_test, y_pred_xgb),\n",
        "        'AUC': auc_xgb\n",
        "    }\n",
        "])\n",
        "\n",
        "print(\"\\n📊 Comparativo Final:\")\n",
        "print(df_resultados)\n",
        "\n",
        "joblib.dump(preprocessador, 'preprocessador.pkl')\n",
        "joblib.dump(melhor_pipeline_rf, 'random_forest_pipeline.pkl')\n",
        "joblib.dump(modelo_xgb, 'modelo_xgb.pkl')\n",
        "joblib.dump(X_train.columns.tolist(), 'colunas_modelo.pkl')\n",
        "X_train.to_csv('dados_treinamento.csv', index=False)"
      ],
      "metadata": {
        "colab": {
          "base_uri": "https://localhost:8080/"
        },
        "id": "5dmQEtfVmLI3",
        "outputId": "5b5c4f18-4098-45fe-c8dc-d2f9c9fcdbfd"
      },
      "execution_count": 16,
      "outputs": [
        {
          "output_type": "stream",
          "name": "stdout",
          "text": [
            "\n",
            "📊 Comparativo Final:\n",
            "          Modelo  Acurácia  Recall Classe 1  F1 Classe 1       AUC\n",
            "0  Random Forest  0.756789         0.581240     0.209731  0.742683\n",
            "1        XGBoost  0.945033         0.038526     0.072214  0.764131\n"
          ]
        }
      ]
    },
    {
      "cell_type": "markdown",
      "source": [
        "# 16 - Funções de Previsão de Candidatos\n",
        "As funções permitem realizar previsões sobre a contratação de candidatos usando dois modelos de aprendizado de máquina, ajustando dinamicamente os dados de entrada e retornando tanto a classe prevista quanto a probabilidade associada."
      ],
      "metadata": {
        "id": "OsrFsoKXmjYG"
      }
    },
    {
      "cell_type": "code",
      "source": [
        "def prever_candidato_rf(dados_dict, pipeline_rf, colunas_modelo):\n",
        "    df_input = pd.DataFrame([dados_dict])\n",
        "\n",
        "    for col in colunas_modelo:\n",
        "        if col not in df_input.columns:\n",
        "            df_input[col] = 0\n",
        "    df_input = df_input[colunas_modelo]\n",
        "\n",
        "    classe_predita = pipeline_rf.predict(df_input)[0]\n",
        "    probabilidade = pipeline_rf.predict_proba(df_input)[0][1]\n",
        "\n",
        "    return classe_predita, probabilidade\n",
        "\n",
        "def prever_candidato_xgb(dados_dict, preprocessador, modelo_xgb, colunas_modelo):\n",
        "    df_input = pd.DataFrame([dados_dict])\n",
        "\n",
        "    for col in colunas_modelo:\n",
        "        if col not in df_input.columns:\n",
        "            df_input[col] = 0\n",
        "    df_input = df_input[colunas_modelo]\n",
        "\n",
        "    X_proc = preprocessador.transform(df_input)\n",
        "\n",
        "    classe_predita = modelo_xgb.predict(X_proc)[0]\n",
        "    probabilidade = modelo_xgb.predict_proba(X_proc)[0][1]\n",
        "\n",
        "    return classe_predita, probabilidade\n",
        "\n",
        "\n",
        "exemplo_candidato = {\n",
        "    'formacao_e_idiomas.nivel_ingles': 3,\n",
        "    'formacao_e_idiomas.nivel_espanhol': 1,\n",
        "    'formacao_e_idiomas.nivel_academico': 4,\n",
        "    'informacoes_profissionais.nivel_profissional': 2,\n",
        "    'perfil_vaga.estado': 'SP'\n",
        "}\n",
        "\n",
        "\n",
        "classe_rf, prob_rf = prever_candidato_rf(\n",
        "    dados_dict=exemplo_candidato,\n",
        "    pipeline_rf=melhor_pipeline_rf,\n",
        "    colunas_modelo=X_train.columns.tolist()\n",
        ")\n",
        "\n",
        "print(f\"\\nRandom Forest: Classe (0 não contratado, 1 contratado): {classe_rf}, Probabilidade de contratação: {prob_rf:.2%}\")\n",
        "\n",
        "\n",
        "classe_xgb, prob_xgb = prever_candidato_xgb(\n",
        "    dados_dict=exemplo_candidato,\n",
        "    preprocessador=preprocessador,\n",
        "    modelo_xgb=modelo_xgb,\n",
        "    colunas_modelo=X_train.columns.tolist()\n",
        ")\n",
        "\n",
        "print(f\"XGBoost: Classe (0 não contratado, 1 contratado): {classe_xgb}, Probabilidade de contratação: {prob_xgb:.2%}\")"
      ],
      "metadata": {
        "colab": {
          "base_uri": "https://localhost:8080/"
        },
        "id": "NxqtMSn_mpC-",
        "outputId": "212d5c4f-d22d-46f5-8ccd-879ca978ba1b"
      },
      "execution_count": 17,
      "outputs": [
        {
          "output_type": "stream",
          "name": "stdout",
          "text": [
            "\n",
            "Random Forest: Classe (0 não contratado, 1 contratado): 0.0, Probabilidade de contratação: 49.95%\n",
            "XGBoost: Classe (0 não contratado, 1 contratado): 0, Probabilidade de contratação: 4.25%\n"
          ]
        },
        {
          "output_type": "stream",
          "name": "stderr",
          "text": [
            "/usr/local/lib/python3.11/dist-packages/sklearn/preprocessing/_encoders.py:246: UserWarning: Found unknown categories in columns [0, 1, 2, 3, 4, 5, 6, 7, 8, 9, 10, 11, 12, 13, 14, 15, 16] during transform. These unknown categories will be encoded as all zeros\n",
            "  warnings.warn(\n",
            "/usr/local/lib/python3.11/dist-packages/sklearn/preprocessing/_encoders.py:246: UserWarning: Found unknown categories in columns [0, 1, 2, 3, 4, 5, 6, 7, 8, 9, 10, 11, 12, 13, 14, 15, 16] during transform. These unknown categories will be encoded as all zeros\n",
            "  warnings.warn(\n",
            "/usr/local/lib/python3.11/dist-packages/sklearn/preprocessing/_encoders.py:246: UserWarning: Found unknown categories in columns [0, 1, 2, 3, 4, 5, 6, 7, 8, 9, 10, 11, 12, 13, 14, 15, 16] during transform. These unknown categories will be encoded as all zeros\n",
            "  warnings.warn(\n"
          ]
        }
      ]
    },
    {
      "cell_type": "markdown",
      "source": [],
      "metadata": {
        "id": "kMWoTSBrlYUn"
      }
    },
    {
      "cell_type": "markdown",
      "source": [
        "# ---------------"
      ],
      "metadata": {
        "id": "9dI7zT8CodHm"
      }
    },
    {
      "cell_type": "markdown",
      "source": [
        "# 17 - App e instalação bibliotecas"
      ],
      "metadata": {
        "id": "L8ygTPhNpzUd"
      }
    },
    {
      "cell_type": "code",
      "source": [
        "!pip install streamlit\n",
        "!pip install joblib\n",
        "!pip install pyngrok\n",
        "\n",
        "import streamlit as st\n",
        "import pandas as pd\n",
        "import joblib\n",
        "\n",
        "preprocessador = joblib.load('preprocessador.pkl')\n",
        "modelo = joblib.load('modelo_xgb.pkl')"
      ],
      "metadata": {
        "colab": {
          "base_uri": "https://localhost:8080/"
        },
        "id": "JQN3e2Pap6Lw",
        "outputId": "ea9cda7a-4475-47a3-e6b6-86c860289224"
      },
      "execution_count": 21,
      "outputs": [
        {
          "output_type": "stream",
          "name": "stdout",
          "text": [
            "Requirement already satisfied: streamlit in /usr/local/lib/python3.11/dist-packages (1.47.0)\n",
            "Requirement already satisfied: altair<6,>=4.0 in /usr/local/lib/python3.11/dist-packages (from streamlit) (5.5.0)\n",
            "Requirement already satisfied: blinker<2,>=1.5.0 in /usr/local/lib/python3.11/dist-packages (from streamlit) (1.9.0)\n",
            "Requirement already satisfied: cachetools<7,>=4.0 in /usr/local/lib/python3.11/dist-packages (from streamlit) (5.5.2)\n",
            "Requirement already satisfied: click<9,>=7.0 in /usr/local/lib/python3.11/dist-packages (from streamlit) (8.2.1)\n",
            "Requirement already satisfied: numpy<3,>=1.23 in /usr/local/lib/python3.11/dist-packages (from streamlit) (2.0.2)\n",
            "Requirement already satisfied: packaging<26,>=20 in /usr/local/lib/python3.11/dist-packages (from streamlit) (25.0)\n",
            "Requirement already satisfied: pandas<3,>=1.4.0 in /usr/local/lib/python3.11/dist-packages (from streamlit) (2.2.2)\n",
            "Requirement already satisfied: pillow<12,>=7.1.0 in /usr/local/lib/python3.11/dist-packages (from streamlit) (11.2.1)\n",
            "Requirement already satisfied: protobuf<7,>=3.20 in /usr/local/lib/python3.11/dist-packages (from streamlit) (5.29.5)\n",
            "Requirement already satisfied: pyarrow>=7.0 in /usr/local/lib/python3.11/dist-packages (from streamlit) (18.1.0)\n",
            "Requirement already satisfied: requests<3,>=2.27 in /usr/local/lib/python3.11/dist-packages (from streamlit) (2.32.3)\n",
            "Requirement already satisfied: tenacity<10,>=8.1.0 in /usr/local/lib/python3.11/dist-packages (from streamlit) (8.5.0)\n",
            "Requirement already satisfied: toml<2,>=0.10.1 in /usr/local/lib/python3.11/dist-packages (from streamlit) (0.10.2)\n",
            "Requirement already satisfied: typing-extensions<5,>=4.4.0 in /usr/local/lib/python3.11/dist-packages (from streamlit) (4.14.1)\n",
            "Requirement already satisfied: watchdog<7,>=2.1.5 in /usr/local/lib/python3.11/dist-packages (from streamlit) (6.0.0)\n",
            "Requirement already satisfied: gitpython!=3.1.19,<4,>=3.0.7 in /usr/local/lib/python3.11/dist-packages (from streamlit) (3.1.44)\n",
            "Requirement already satisfied: pydeck<1,>=0.8.0b4 in /usr/local/lib/python3.11/dist-packages (from streamlit) (0.9.1)\n",
            "Requirement already satisfied: tornado!=6.5.0,<7,>=6.0.3 in /usr/local/lib/python3.11/dist-packages (from streamlit) (6.4.2)\n",
            "Requirement already satisfied: jinja2 in /usr/local/lib/python3.11/dist-packages (from altair<6,>=4.0->streamlit) (3.1.6)\n",
            "Requirement already satisfied: jsonschema>=3.0 in /usr/local/lib/python3.11/dist-packages (from altair<6,>=4.0->streamlit) (4.24.1)\n",
            "Requirement already satisfied: narwhals>=1.14.2 in /usr/local/lib/python3.11/dist-packages (from altair<6,>=4.0->streamlit) (1.47.1)\n",
            "Requirement already satisfied: gitdb<5,>=4.0.1 in /usr/local/lib/python3.11/dist-packages (from gitpython!=3.1.19,<4,>=3.0.7->streamlit) (4.0.12)\n",
            "Requirement already satisfied: python-dateutil>=2.8.2 in /usr/local/lib/python3.11/dist-packages (from pandas<3,>=1.4.0->streamlit) (2.9.0.post0)\n",
            "Requirement already satisfied: pytz>=2020.1 in /usr/local/lib/python3.11/dist-packages (from pandas<3,>=1.4.0->streamlit) (2025.2)\n",
            "Requirement already satisfied: tzdata>=2022.7 in /usr/local/lib/python3.11/dist-packages (from pandas<3,>=1.4.0->streamlit) (2025.2)\n",
            "Requirement already satisfied: charset-normalizer<4,>=2 in /usr/local/lib/python3.11/dist-packages (from requests<3,>=2.27->streamlit) (3.4.2)\n",
            "Requirement already satisfied: idna<4,>=2.5 in /usr/local/lib/python3.11/dist-packages (from requests<3,>=2.27->streamlit) (3.10)\n",
            "Requirement already satisfied: urllib3<3,>=1.21.1 in /usr/local/lib/python3.11/dist-packages (from requests<3,>=2.27->streamlit) (2.4.0)\n",
            "Requirement already satisfied: certifi>=2017.4.17 in /usr/local/lib/python3.11/dist-packages (from requests<3,>=2.27->streamlit) (2025.7.14)\n",
            "Requirement already satisfied: smmap<6,>=3.0.1 in /usr/local/lib/python3.11/dist-packages (from gitdb<5,>=4.0.1->gitpython!=3.1.19,<4,>=3.0.7->streamlit) (5.0.2)\n",
            "Requirement already satisfied: MarkupSafe>=2.0 in /usr/local/lib/python3.11/dist-packages (from jinja2->altair<6,>=4.0->streamlit) (3.0.2)\n",
            "Requirement already satisfied: attrs>=22.2.0 in /usr/local/lib/python3.11/dist-packages (from jsonschema>=3.0->altair<6,>=4.0->streamlit) (25.3.0)\n",
            "Requirement already satisfied: jsonschema-specifications>=2023.03.6 in /usr/local/lib/python3.11/dist-packages (from jsonschema>=3.0->altair<6,>=4.0->streamlit) (2025.4.1)\n",
            "Requirement already satisfied: referencing>=0.28.4 in /usr/local/lib/python3.11/dist-packages (from jsonschema>=3.0->altair<6,>=4.0->streamlit) (0.36.2)\n",
            "Requirement already satisfied: rpds-py>=0.7.1 in /usr/local/lib/python3.11/dist-packages (from jsonschema>=3.0->altair<6,>=4.0->streamlit) (0.26.0)\n",
            "Requirement already satisfied: six>=1.5 in /usr/local/lib/python3.11/dist-packages (from python-dateutil>=2.8.2->pandas<3,>=1.4.0->streamlit) (1.17.0)\n",
            "Requirement already satisfied: joblib in /usr/local/lib/python3.11/dist-packages (1.5.1)\n",
            "Requirement already satisfied: pyngrok in /usr/local/lib/python3.11/dist-packages (7.2.12)\n",
            "Requirement already satisfied: PyYAML>=5.1 in /usr/local/lib/python3.11/dist-packages (from pyngrok) (6.0.2)\n"
          ]
        }
      ]
    },
    {
      "cell_type": "markdown",
      "source": [
        "# 18 - Final\n",
        "\n",
        "01 - Definição de Campos e Opções:\n",
        "São configurados campos para capturar dados da vaga (como estado, cidade, nível acadêmico e idiomas) e do candidato (como área de atuação, nível profissional e formação).\n",
        "\n",
        "02 - Interface de Usuário:\n",
        "Através do Streamlit, é criada uma interface para o usuário preencher as informações da vaga e do candidato por meio de seleções, campos de texto e inputs numéricos.\n",
        "\n",
        "03 - Coleta de Dados:\n",
        "Os dados fornecidos pelo usuário são coletados e organizados em um DataFrame.\n",
        "\n",
        "04 - Pré-processamento e Previsão:\n",
        "\n",
        "* Os dados são processados (transformação e limpeza).\n",
        "\n",
        "* Um modelo treinado é usado para prever se a contratação será possível com base nas informações fornecidas.\n",
        "\n",
        "05 - Exibição do Resultado:\n",
        "A previsão é apresentada ao usuário, indicando se a contratação é \"Sim\" ou \"Não\"."
      ],
      "metadata": {
        "id": "synvEbIgp_cm"
      }
    },
    {
      "cell_type": "code",
      "source": [
        "\n",
        "campos = {\n",
        "    'perfil_vaga.estado': 'Estado da vaga',\n",
        "    'perfil_vaga.cidade': 'Cidade da vaga',\n",
        "    'perfil_vaga.regiao': 'Região da vaga',\n",
        "    'perfil_vaga.nivel_academico': 'Nível acadêmico da vaga',\n",
        "    'perfil_vaga.nivel_ingles': 'Nível de inglês da vaga',\n",
        "    'perfil_vaga.nivel_espanhol': 'Nível de espanhol da vaga',\n",
        "    'perfil_vaga.areas_atuacao': 'Área de atuação da vaga',\n",
        "    'perfil_vaga.vaga_especifica_para_pcd': 'Vaga específica para PCD?',\n",
        "    'informacoes_basicas.prioridade_vaga': 'Prioridade da vaga',\n",
        "    'informacoes_profissionais.area_atuacao': 'Área de atuação do candidato',\n",
        "    'informacoes_profissionais.nivel_profissional': 'Nível profissional do candidato',\n",
        "    'formacao_e_idiomas.nivel_academico': 'Nível acadêmico do candidato',\n",
        "    'formacao_e_idiomas.nivel_ingles': 'Nível de inglês do candidato',\n",
        "    'formacao_e_idiomas.nivel_espanhol': 'Nível de espanhol do candidato',\n",
        "    'formacao_e_idiomas.outro_idioma': 'Outro idioma',\n",
        "    'formacao_e_idiomas.instituicao_ensino_superior': 'Instituição de ensino superior',\n",
        "    'formacao_e_idiomas.ano_conclusao': 'Ano de conclusão da formação'\n",
        "}\n",
        "\n",
        "\n",
        "estados = ['Acre', 'Alagoas', 'Amapá', 'Amazonas', 'Bahia', 'Ceará', 'Distrito Federal', 'Espirito Santo',\n",
        "           'Goiás', 'Maranhão', 'Mato Grosso', 'Mato Grosso do Sul', 'Minas Gerais', 'Pará', 'Paraíba',\n",
        "           'Paraná', 'Pernambuco', 'Piauí', 'Rio de Janeiro', 'Rio Grande do Norte', 'Rio Grande do Sul',\n",
        "           'Rondônia', 'Roraima', 'Santa Catarina', 'São Paulo', 'Sergipe', 'Tocantins']\n",
        "\n",
        "regioes = ['Norte', 'Nordeste', 'Centro-Oeste', 'Sudeste', 'Sul']\n",
        "\n",
        "niveis_idioma_vaga = ['Avançado', 'Fluente', 'Nenhum', 'Básico', 'Intermediário', 'Técnico']\n",
        "niveis_idioma_candidato = ['Nenhum', 'Intermediário', 'Básico', 'Avançado', 'Fluente']\n",
        "\n",
        "outros_idiomas_candidato = [\n",
        "    'Português - Fluente', 'Francês - Intermediário', 'Francês - Básico', 'Italiano - Avançado', 'Português -',\n",
        "    'Italiano - Básico', 'Português - Avançado', 'Alemão - Básico', 'Alemão -', 'Japonês - Básico', 'Japonês -',\n",
        "    'Alemão - Avançado', 'Japonês - Avançado', 'Alemão - Intermediário', 'Russo - Básico', 'Russo - Intermediário',\n",
        "    'Italiano - Intermediário', 'Português - Intermediário', 'Japonês - Intermediário', 'Mandarim - Básico',\n",
        "    'Francês - Avançado', 'Português - Nenhum', 'Italiano -', 'Português - Básico', 'Francês - Fluente',\n",
        "    'Italiano - Fluente', 'Japonês - Fluente', 'Japonês - Nenhum', 'Russo - Fluente', 'Alemão - Nenhum',\n",
        "    'Francês -', 'Alemão - Fluente'\n",
        "]\n",
        "\n",
        "outros_idiomas_vaga = [\n",
        "    'Mandarim ou Russo', 'Nenhum', 'Avançado', 'Português Fluente', 'Português Avançado', 'Português Básico',\n",
        "    'Francês Básico', 'Fluente', 'Básico', 'Francês Intermediário', 'Mandarim - Desejável', 'Alemão Fluente',\n",
        "    'Francês Fluente', 'Alemão Avançado', 'Português Intermediário', 'Português'\n",
        "]\n",
        "\n",
        "areas_atuacao_vaga = [\n",
        "    'TI - Sistemas e Ferramentas', 'TI - Desenvolvimento/Programação', 'TI - Projetos', 'TI - SAP',\n",
        "    'TI - Infraestrutura', 'Gestão e Alocação de Recursos de TI', 'Administrativa',\n",
        "    'TI - Processos e Negócios', 'Recursos Humanos', 'TI - Desenvolvimento/Design',\n",
        "    'TI - Suporte', 'Financeira/Controladoria', 'TI - Desenvolvimento/Mobile', 'TI - Qualidade/Testes',\n",
        "    'Comercial', 'TI - Banco de Dados', 'TI - Arquitetura', 'TI - Governança', 'TI - Telecom',\n",
        "]\n",
        "\n",
        "\n",
        "st.title('Previsão de Contratação - Decision AI')\n",
        "st.markdown(\"### Preencha os dados da vaga e do candidato\")\n",
        "\n",
        "estado = st.selectbox(campos['perfil_vaga.estado'], estados)\n",
        "cidade = st.text_input(campos['perfil_vaga.cidade'])\n",
        "regiao = st.selectbox(campos['perfil_vaga.regiao'], regioes)\n",
        "nivel_academico_vaga = st.selectbox(campos['perfil_vaga.nivel_academico'], niveis_idioma_vaga)\n",
        "nivel_ingles_vaga = st.selectbox(campos['perfil_vaga.nivel_ingles'], niveis_idioma_vaga)\n",
        "nivel_espanhol_vaga = st.selectbox(campos['perfil_vaga.nivel_espanhol'], niveis_idioma_vaga)\n",
        "area_atuacao_vaga = st.selectbox(campos['perfil_vaga.areas_atuacao'], areas_atuacao_vaga)\n",
        "vaga_pcd = st.selectbox(campos['perfil_vaga.vaga_especifica_para_pcd'], ['Sim', 'Não'])\n",
        "prioridade_vaga = st.selectbox(campos['informacoes_basicas.prioridade_vaga'], ['Alta', 'Média', 'Baixa'])\n",
        "area_atuacao_candidato = st.selectbox(campos['informacoes_profissionais.area_atuacao'], areas_atuacao_vaga)\n",
        "nivel_profissional_candidato = st.selectbox(campos['informacoes_profissionais.nivel_profissional'], ['Júnior', 'Pleno', 'Sênior'])\n",
        "nivel_academico_candidato = st.selectbox(campos['formacao_e_idiomas.nivel_academico'], niveis_idioma_candidato)\n",
        "nivel_ingles_candidato = st.selectbox(campos['formacao_e_idiomas.nivel_ingles'], niveis_idioma_candidato)\n",
        "nivel_espanhol_candidato = st.selectbox(campos['formacao_e_idiomas.nivel_espanhol'], niveis_idioma_candidato)\n",
        "outro_idioma = st.selectbox(campos['formacao_e_idiomas.outro_idioma'], outros_idiomas_candidato)\n",
        "instituicao_ensino = st.text_input(campos['formacao_e_idiomas.instituicao_ensino_superior'])\n",
        "ano_conclusao = st.number_input(campos['formacao_e_idiomas.ano_conclusao'], min_value=1900, max_value=2025, step=1)\n",
        "\n",
        "if st.button('Prever Contratação'):\n",
        "    dados = {\n",
        "        'perfil_vaga.estado': estado,\n",
        "        'perfil_vaga.cidade': cidade,\n",
        "        'perfil_vaga.regiao': regiao,\n",
        "        'perfil_vaga.nivel_academico': nivel_academico_vaga,\n",
        "        'perfil_vaga.nivel_ingles': nivel_ingles_vaga,\n",
        "        'perfil_vaga.nivel_espanhol': nivel_espanhol_vaga,\n",
        "        'perfil_vaga.areas_atuacao': area_atuacao_vaga,\n",
        "        'perfil_vaga.vaga_especifica_para_pcd': vaga_pcd,\n",
        "        'informacoes_basicas.prioridade_vaga': prioridade_vaga,\n",
        "        'informacoes_profissionais.area_atuacao': area_atuacao_candidato,\n",
        "        'informacoes_profissionais.nivel_profissional': nivel_profissional_candidato,\n",
        "        'formacao_e_idiomas.nivel_academico': nivel_academico_candidato,\n",
        "        'formacao_e_idiomas.nivel_ingles': nivel_ingles_candidato,\n",
        "        'formacao_e_idiomas.nivel_espanhol': nivel_espanhol_candidato,\n",
        "        'formacao_e_idiomas.outro_idioma': outro_idioma,\n",
        "        'formacao_e_idiomas.instituicao_ensino_superior': instituicao_ensino,\n",
        "        'formacao_e_idiomas.ano_conclusao': ano_conclusao\n",
        "    }\n",
        "\n",
        "    df = pd.DataFrame([dados])\n",
        "\n",
        "    df_proc = preprocessador.transform(df)\n",
        "\n",
        "\n",
        "    pred = modelo.predict(df_proc)\n",
        "\n",
        "    st.success(f'A previsão de contratação é: {\"Sim\" if pred[0] == 1 else \"Não\"}')\n",
        "\n",
        "\n",
        "\n",
        "\n"
      ],
      "metadata": {
        "colab": {
          "base_uri": "https://localhost:8080/"
        },
        "id": "fxnP-r_aog8e",
        "outputId": "9aedc78d-e923-4006-8aa6-6bc993e62561"
      },
      "execution_count": 22,
      "outputs": [
        {
          "output_type": "stream",
          "name": "stderr",
          "text": [
            "2025-07-22 01:00:26.500 Thread 'MainThread': missing ScriptRunContext! This warning can be ignored when running in bare mode.\n",
            "2025-07-22 01:00:26.504 Thread 'MainThread': missing ScriptRunContext! This warning can be ignored when running in bare mode.\n",
            "2025-07-22 01:00:26.507 Thread 'MainThread': missing ScriptRunContext! This warning can be ignored when running in bare mode.\n",
            "2025-07-22 01:00:26.511 Thread 'MainThread': missing ScriptRunContext! This warning can be ignored when running in bare mode.\n",
            "2025-07-22 01:00:26.514 Thread 'MainThread': missing ScriptRunContext! This warning can be ignored when running in bare mode.\n",
            "2025-07-22 01:00:26.516 Thread 'MainThread': missing ScriptRunContext! This warning can be ignored when running in bare mode.\n",
            "2025-07-22 01:00:26.519 Thread 'MainThread': missing ScriptRunContext! This warning can be ignored when running in bare mode.\n",
            "2025-07-22 01:00:26.522 Thread 'MainThread': missing ScriptRunContext! This warning can be ignored when running in bare mode.\n",
            "2025-07-22 01:00:26.525 Thread 'MainThread': missing ScriptRunContext! This warning can be ignored when running in bare mode.\n",
            "2025-07-22 01:00:26.526 Thread 'MainThread': missing ScriptRunContext! This warning can be ignored when running in bare mode.\n",
            "2025-07-22 01:00:26.527 Thread 'MainThread': missing ScriptRunContext! This warning can be ignored when running in bare mode.\n",
            "2025-07-22 01:00:26.528 Thread 'MainThread': missing ScriptRunContext! This warning can be ignored when running in bare mode.\n",
            "2025-07-22 01:00:26.530 Thread 'MainThread': missing ScriptRunContext! This warning can be ignored when running in bare mode.\n",
            "2025-07-22 01:00:26.531 Thread 'MainThread': missing ScriptRunContext! This warning can be ignored when running in bare mode.\n",
            "2025-07-22 01:00:26.532 Thread 'MainThread': missing ScriptRunContext! This warning can be ignored when running in bare mode.\n",
            "2025-07-22 01:00:26.533 Thread 'MainThread': missing ScriptRunContext! This warning can be ignored when running in bare mode.\n",
            "2025-07-22 01:00:26.535 Thread 'MainThread': missing ScriptRunContext! This warning can be ignored when running in bare mode.\n",
            "2025-07-22 01:00:26.536 Thread 'MainThread': missing ScriptRunContext! This warning can be ignored when running in bare mode.\n",
            "2025-07-22 01:00:26.537 Thread 'MainThread': missing ScriptRunContext! This warning can be ignored when running in bare mode.\n",
            "2025-07-22 01:00:26.538 Thread 'MainThread': missing ScriptRunContext! This warning can be ignored when running in bare mode.\n",
            "2025-07-22 01:00:26.539 Thread 'MainThread': missing ScriptRunContext! This warning can be ignored when running in bare mode.\n",
            "2025-07-22 01:00:26.540 Thread 'MainThread': missing ScriptRunContext! This warning can be ignored when running in bare mode.\n",
            "2025-07-22 01:00:26.541 Thread 'MainThread': missing ScriptRunContext! This warning can be ignored when running in bare mode.\n",
            "2025-07-22 01:00:26.542 Thread 'MainThread': missing ScriptRunContext! This warning can be ignored when running in bare mode.\n",
            "2025-07-22 01:00:26.552 Thread 'MainThread': missing ScriptRunContext! This warning can be ignored when running in bare mode.\n",
            "2025-07-22 01:00:26.553 Thread 'MainThread': missing ScriptRunContext! This warning can be ignored when running in bare mode.\n",
            "2025-07-22 01:00:26.554 Thread 'MainThread': missing ScriptRunContext! This warning can be ignored when running in bare mode.\n",
            "2025-07-22 01:00:26.555 Thread 'MainThread': missing ScriptRunContext! This warning can be ignored when running in bare mode.\n",
            "2025-07-22 01:00:26.563 Thread 'MainThread': missing ScriptRunContext! This warning can be ignored when running in bare mode.\n",
            "2025-07-22 01:00:26.564 Thread 'MainThread': missing ScriptRunContext! This warning can be ignored when running in bare mode.\n",
            "2025-07-22 01:00:26.564 Thread 'MainThread': missing ScriptRunContext! This warning can be ignored when running in bare mode.\n",
            "2025-07-22 01:00:26.565 Thread 'MainThread': missing ScriptRunContext! This warning can be ignored when running in bare mode.\n",
            "2025-07-22 01:00:26.566 Thread 'MainThread': missing ScriptRunContext! This warning can be ignored when running in bare mode.\n",
            "2025-07-22 01:00:26.571 Thread 'MainThread': missing ScriptRunContext! This warning can be ignored when running in bare mode.\n",
            "2025-07-22 01:00:26.572 Thread 'MainThread': missing ScriptRunContext! This warning can be ignored when running in bare mode.\n",
            "2025-07-22 01:00:26.573 Thread 'MainThread': missing ScriptRunContext! This warning can be ignored when running in bare mode.\n",
            "2025-07-22 01:00:26.573 Thread 'MainThread': missing ScriptRunContext! This warning can be ignored when running in bare mode.\n",
            "2025-07-22 01:00:26.574 Thread 'MainThread': missing ScriptRunContext! This warning can be ignored when running in bare mode.\n",
            "2025-07-22 01:00:26.580 Thread 'MainThread': missing ScriptRunContext! This warning can be ignored when running in bare mode.\n",
            "2025-07-22 01:00:26.580 Thread 'MainThread': missing ScriptRunContext! This warning can be ignored when running in bare mode.\n",
            "2025-07-22 01:00:26.581 Thread 'MainThread': missing ScriptRunContext! This warning can be ignored when running in bare mode.\n",
            "2025-07-22 01:00:26.582 Thread 'MainThread': missing ScriptRunContext! This warning can be ignored when running in bare mode.\n",
            "2025-07-22 01:00:26.586 Thread 'MainThread': missing ScriptRunContext! This warning can be ignored when running in bare mode.\n",
            "2025-07-22 01:00:26.587 Thread 'MainThread': missing ScriptRunContext! This warning can be ignored when running in bare mode.\n",
            "2025-07-22 01:00:26.588 Thread 'MainThread': missing ScriptRunContext! This warning can be ignored when running in bare mode.\n",
            "2025-07-22 01:00:26.589 Thread 'MainThread': missing ScriptRunContext! This warning can be ignored when running in bare mode.\n",
            "2025-07-22 01:00:26.589 Thread 'MainThread': missing ScriptRunContext! This warning can be ignored when running in bare mode.\n",
            "2025-07-22 01:00:26.595 Thread 'MainThread': missing ScriptRunContext! This warning can be ignored when running in bare mode.\n",
            "2025-07-22 01:00:26.596 Thread 'MainThread': missing ScriptRunContext! This warning can be ignored when running in bare mode.\n",
            "2025-07-22 01:00:26.596 Thread 'MainThread': missing ScriptRunContext! This warning can be ignored when running in bare mode.\n",
            "2025-07-22 01:00:26.597 Thread 'MainThread': missing ScriptRunContext! This warning can be ignored when running in bare mode.\n",
            "2025-07-22 01:00:26.598 Thread 'MainThread': missing ScriptRunContext! This warning can be ignored when running in bare mode.\n",
            "2025-07-22 01:00:26.598 Thread 'MainThread': missing ScriptRunContext! This warning can be ignored when running in bare mode.\n",
            "2025-07-22 01:00:26.599 Thread 'MainThread': missing ScriptRunContext! This warning can be ignored when running in bare mode.\n",
            "2025-07-22 01:00:26.605 Thread 'MainThread': missing ScriptRunContext! This warning can be ignored when running in bare mode.\n",
            "2025-07-22 01:00:26.606 Thread 'MainThread': missing ScriptRunContext! This warning can be ignored when running in bare mode.\n",
            "2025-07-22 01:00:26.607 Thread 'MainThread': missing ScriptRunContext! This warning can be ignored when running in bare mode.\n",
            "2025-07-22 01:00:26.607 Thread 'MainThread': missing ScriptRunContext! This warning can be ignored when running in bare mode.\n",
            "2025-07-22 01:00:26.608 Thread 'MainThread': missing ScriptRunContext! This warning can be ignored when running in bare mode.\n",
            "2025-07-22 01:00:26.609 Thread 'MainThread': missing ScriptRunContext! This warning can be ignored when running in bare mode.\n",
            "2025-07-22 01:00:26.610 Thread 'MainThread': missing ScriptRunContext! This warning can be ignored when running in bare mode.\n",
            "2025-07-22 01:00:26.610 Thread 'MainThread': missing ScriptRunContext! This warning can be ignored when running in bare mode.\n",
            "2025-07-22 01:00:26.613 Thread 'MainThread': missing ScriptRunContext! This warning can be ignored when running in bare mode.\n",
            "2025-07-22 01:00:26.614 Thread 'MainThread': missing ScriptRunContext! This warning can be ignored when running in bare mode.\n",
            "2025-07-22 01:00:26.615 Thread 'MainThread': missing ScriptRunContext! This warning can be ignored when running in bare mode.\n",
            "2025-07-22 01:00:26.615 Thread 'MainThread': missing ScriptRunContext! This warning can be ignored when running in bare mode.\n",
            "2025-07-22 01:00:26.616 Thread 'MainThread': missing ScriptRunContext! This warning can be ignored when running in bare mode.\n",
            "2025-07-22 01:00:26.619 Thread 'MainThread': missing ScriptRunContext! This warning can be ignored when running in bare mode.\n",
            "2025-07-22 01:00:26.619 Thread 'MainThread': missing ScriptRunContext! This warning can be ignored when running in bare mode.\n",
            "2025-07-22 01:00:26.620 Thread 'MainThread': missing ScriptRunContext! This warning can be ignored when running in bare mode.\n",
            "2025-07-22 01:00:26.621 Thread 'MainThread': missing ScriptRunContext! This warning can be ignored when running in bare mode.\n",
            "2025-07-22 01:00:26.621 Thread 'MainThread': missing ScriptRunContext! This warning can be ignored when running in bare mode.\n",
            "2025-07-22 01:00:26.622 Thread 'MainThread': missing ScriptRunContext! This warning can be ignored when running in bare mode.\n",
            "2025-07-22 01:00:26.626 Thread 'MainThread': missing ScriptRunContext! This warning can be ignored when running in bare mode.\n",
            "2025-07-22 01:00:26.627 Thread 'MainThread': missing ScriptRunContext! This warning can be ignored when running in bare mode.\n",
            "2025-07-22 01:00:26.627 Thread 'MainThread': missing ScriptRunContext! This warning can be ignored when running in bare mode.\n",
            "2025-07-22 01:00:26.628 Thread 'MainThread': missing ScriptRunContext! This warning can be ignored when running in bare mode.\n",
            "2025-07-22 01:00:26.629 Thread 'MainThread': missing ScriptRunContext! This warning can be ignored when running in bare mode.\n",
            "2025-07-22 01:00:26.633 Thread 'MainThread': missing ScriptRunContext! This warning can be ignored when running in bare mode.\n",
            "2025-07-22 01:00:26.634 Thread 'MainThread': missing ScriptRunContext! This warning can be ignored when running in bare mode.\n",
            "2025-07-22 01:00:26.634 Thread 'MainThread': missing ScriptRunContext! This warning can be ignored when running in bare mode.\n",
            "2025-07-22 01:00:26.635 Thread 'MainThread': missing ScriptRunContext! This warning can be ignored when running in bare mode.\n",
            "2025-07-22 01:00:26.635 Thread 'MainThread': missing ScriptRunContext! This warning can be ignored when running in bare mode.\n",
            "2025-07-22 01:00:26.636 Thread 'MainThread': missing ScriptRunContext! This warning can be ignored when running in bare mode.\n",
            "2025-07-22 01:00:26.637 Thread 'MainThread': missing ScriptRunContext! This warning can be ignored when running in bare mode.\n",
            "2025-07-22 01:00:26.637 Thread 'MainThread': missing ScriptRunContext! This warning can be ignored when running in bare mode.\n",
            "2025-07-22 01:00:26.642 Thread 'MainThread': missing ScriptRunContext! This warning can be ignored when running in bare mode.\n",
            "2025-07-22 01:00:26.643 Thread 'MainThread': missing ScriptRunContext! This warning can be ignored when running in bare mode.\n",
            "2025-07-22 01:00:26.644 Thread 'MainThread': missing ScriptRunContext! This warning can be ignored when running in bare mode.\n",
            "2025-07-22 01:00:26.644 Thread 'MainThread': missing ScriptRunContext! This warning can be ignored when running in bare mode.\n",
            "2025-07-22 01:00:26.645 Thread 'MainThread': missing ScriptRunContext! This warning can be ignored when running in bare mode.\n",
            "2025-07-22 01:00:26.645 Thread 'MainThread': missing ScriptRunContext! This warning can be ignored when running in bare mode.\n",
            "2025-07-22 01:00:26.650 Thread 'MainThread': missing ScriptRunContext! This warning can be ignored when running in bare mode.\n",
            "2025-07-22 01:00:26.652 Thread 'MainThread': missing ScriptRunContext! This warning can be ignored when running in bare mode.\n",
            "2025-07-22 01:00:26.653 Thread 'MainThread': missing ScriptRunContext! This warning can be ignored when running in bare mode.\n",
            "2025-07-22 01:00:26.653 Thread 'MainThread': missing ScriptRunContext! This warning can be ignored when running in bare mode.\n",
            "2025-07-22 01:00:26.654 Thread 'MainThread': missing ScriptRunContext! This warning can be ignored when running in bare mode.\n",
            "2025-07-22 01:00:26.655 Thread 'MainThread': missing ScriptRunContext! This warning can be ignored when running in bare mode.\n",
            "2025-07-22 01:00:26.655 Thread 'MainThread': missing ScriptRunContext! This warning can be ignored when running in bare mode.\n",
            "2025-07-22 01:00:26.656 Thread 'MainThread': missing ScriptRunContext! This warning can be ignored when running in bare mode.\n",
            "2025-07-22 01:00:26.656 Thread 'MainThread': missing ScriptRunContext! This warning can be ignored when running in bare mode.\n",
            "2025-07-22 01:00:26.658 Thread 'MainThread': missing ScriptRunContext! This warning can be ignored when running in bare mode.\n",
            "2025-07-22 01:00:26.658 Thread 'MainThread': missing ScriptRunContext! This warning can be ignored when running in bare mode.\n",
            "2025-07-22 01:00:26.659 Thread 'MainThread': missing ScriptRunContext! This warning can be ignored when running in bare mode.\n",
            "2025-07-22 01:00:26.662 Thread 'MainThread': missing ScriptRunContext! This warning can be ignored when running in bare mode.\n",
            "2025-07-22 01:00:26.662 Thread 'MainThread': missing ScriptRunContext! This warning can be ignored when running in bare mode.\n",
            "2025-07-22 01:00:26.663 Thread 'MainThread': missing ScriptRunContext! This warning can be ignored when running in bare mode.\n",
            "2025-07-22 01:00:26.664 Thread 'MainThread': missing ScriptRunContext! This warning can be ignored when running in bare mode.\n",
            "2025-07-22 01:00:26.665 Thread 'MainThread': missing ScriptRunContext! This warning can be ignored when running in bare mode.\n",
            "2025-07-22 01:00:26.666 Thread 'MainThread': missing ScriptRunContext! This warning can be ignored when running in bare mode.\n",
            "2025-07-22 01:00:26.666 Thread 'MainThread': missing ScriptRunContext! This warning can be ignored when running in bare mode.\n",
            "2025-07-22 01:00:26.667 Thread 'MainThread': missing ScriptRunContext! This warning can be ignored when running in bare mode.\n",
            "2025-07-22 01:00:26.668 Thread 'MainThread': missing ScriptRunContext! This warning can be ignored when running in bare mode.\n",
            "2025-07-22 01:00:26.668 Thread 'MainThread': missing ScriptRunContext! This warning can be ignored when running in bare mode.\n",
            "2025-07-22 01:00:26.670 Thread 'MainThread': missing ScriptRunContext! This warning can be ignored when running in bare mode.\n",
            "2025-07-22 01:00:26.671 Thread 'MainThread': missing ScriptRunContext! This warning can be ignored when running in bare mode.\n",
            "2025-07-22 01:00:26.672 Thread 'MainThread': missing ScriptRunContext! This warning can be ignored when running in bare mode.\n",
            "2025-07-22 01:00:26.673 Thread 'MainThread': missing ScriptRunContext! This warning can be ignored when running in bare mode.\n",
            "2025-07-22 01:00:26.674 Thread 'MainThread': missing ScriptRunContext! This warning can be ignored when running in bare mode.\n",
            "2025-07-22 01:00:26.675 Thread 'MainThread': missing ScriptRunContext! This warning can be ignored when running in bare mode.\n",
            "2025-07-22 01:00:26.676 Thread 'MainThread': missing ScriptRunContext! This warning can be ignored when running in bare mode.\n",
            "2025-07-22 01:00:26.677 Thread 'MainThread': missing ScriptRunContext! This warning can be ignored when running in bare mode.\n",
            "2025-07-22 01:00:26.678 Thread 'MainThread': missing ScriptRunContext! This warning can be ignored when running in bare mode.\n",
            "2025-07-22 01:00:26.679 Thread 'MainThread': missing ScriptRunContext! This warning can be ignored when running in bare mode.\n",
            "2025-07-22 01:00:26.680 Thread 'MainThread': missing ScriptRunContext! This warning can be ignored when running in bare mode.\n",
            "2025-07-22 01:00:26.681 Thread 'MainThread': missing ScriptRunContext! This warning can be ignored when running in bare mode.\n",
            "2025-07-22 01:00:26.681 Thread 'MainThread': missing ScriptRunContext! This warning can be ignored when running in bare mode.\n",
            "2025-07-22 01:00:26.682 Thread 'MainThread': missing ScriptRunContext! This warning can be ignored when running in bare mode.\n",
            "2025-07-22 01:00:26.683 Thread 'MainThread': missing ScriptRunContext! This warning can be ignored when running in bare mode.\n",
            "2025-07-22 01:00:26.684 Thread 'MainThread': missing ScriptRunContext! This warning can be ignored when running in bare mode.\n",
            "2025-07-22 01:00:26.686 Thread 'MainThread': missing ScriptRunContext! This warning can be ignored when running in bare mode.\n"
          ]
        }
      ]
    }
  ]
}